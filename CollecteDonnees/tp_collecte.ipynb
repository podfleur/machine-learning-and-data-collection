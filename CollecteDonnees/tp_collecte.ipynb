{
  "cells": [
    {
      "cell_type": "markdown",
      "metadata": {
        "id": "view-in-github",
        "colab_type": "text"
      },
      "source": [
        "<a href=\"https://colab.research.google.com/github/podfleur/machine-learning-and-data-collection/blob/main/CollecteDonnees/tp_collecte.ipynb\" target=\"_parent\"><img src=\"https://colab.research.google.com/assets/colab-badge.svg\" alt=\"Open In Colab\"/></a>"
      ]
    },
    {
      "cell_type": "markdown",
      "metadata": {
        "id": "VMqFYU-oB6ZB"
      },
      "source": [
        "## Import des librairies ##"
      ]
    },
    {
      "cell_type": "code",
      "execution_count": 45,
      "metadata": {
        "id": "zqD91xGhB6ZE",
        "outputId": "cce82ba4-6dd8-4a44-ab99-4dbbc4d7a4fa",
        "colab": {
          "base_uri": "https://localhost:8080/"
        }
      },
      "outputs": [
        {
          "output_type": "stream",
          "name": "stdout",
          "text": [
            "Drive already mounted at /content/drive; to attempt to forcibly remount, call drive.mount(\"/content/drive\", force_remount=True).\n"
          ]
        }
      ],
      "source": [
        "#Imports librairies de base\n",
        "import numpy as np\n",
        "import pandas as pd\n",
        "\n",
        "#Affichage de Graphes\n",
        "from IPython.display import Markdown, display, HTML\n",
        "import matplotlib.pyplot as plt\n",
        "\n",
        "#Information Mutuelle\n",
        "from sklearn.feature_selection import mutual_info_regression\n",
        "\n",
        "# Import du drive pour l'import des données\n",
        "from google.colab import drive\n",
        "drive.mount('/content/drive')"
      ]
    },
    {
      "cell_type": "markdown",
      "metadata": {
        "_cell_guid": "25b1e1db-8bc5-7029-f719-91da523bd121",
        "_uuid": "5c867fcbb300bcf3c9b8986bba9949da2a2df931",
        "id": "iHWvCDynB6ZG"
      },
      "source": [
        "## 1. Lecture des données ##"
      ]
    },
    {
      "cell_type": "markdown",
      "metadata": {
        "id": "QYqmx__4B6ZG"
      },
      "source": [
        "1.1 Charger les données d'apprentissage (Data/passagers.csv) dans un DataFrame nommé train. Afficher 10 exemples."
      ]
    },
    {
      "cell_type": "code",
      "execution_count": 74,
      "metadata": {
        "_cell_guid": "2ce68358-02ec-556d-ba88-e773a50bc18b",
        "_uuid": "5ec0878acc5c7ab3903410e671c2a2c6cfeafeea",
        "colab": {
          "base_uri": "https://localhost:8080/",
          "height": 800
        },
        "id": "wuOB46HvB6ZH",
        "outputId": "90a86f88-c935-4965-82a0-67abe244f0ed"
      },
      "outputs": [
        {
          "output_type": "execute_result",
          "data": {
            "text/plain": [
              "     PassengerId  Survived  Pclass  \\\n",
              "396          397         0       3   \n",
              "440          441         1       2   \n",
              "840          841         0       3   \n",
              "187          188         1       1   \n",
              "859          860         0       3   \n",
              "231          232         0       3   \n",
              "564          565         0       3   \n",
              "355          356         0       3   \n",
              "632          633         1       1   \n",
              "713          714         0       3   \n",
              "\n",
              "                                              Name     Sex   Age  SibSp  \\\n",
              "396                            Olsson, Miss. Elina  female  31.0      0   \n",
              "440    Hart, Mrs. Benjamin (Esther Ada Bloomfield)  female  45.0      1   \n",
              "840                    Alhomaki, Mr. Ilmari Rudolf    male  20.0      0   \n",
              "187  Romaine, Mr. Charles Hallace (\"Mr C Rolmane\")    male  45.0      0   \n",
              "859                               Razi, Mr. Raihed    male   NaN      0   \n",
              "231                       Larsson, Mr. Bengt Edvin    male  29.0      0   \n",
              "564                 Meanwell, Miss. (Marion Ogden)  female   NaN      0   \n",
              "355                    Vanden Steen, Mr. Leo Peter    male  28.0      0   \n",
              "632                      Stahelin-Maeglin, Dr. Max    male  32.0      0   \n",
              "713                     Larsson, Mr. August Viktor    male  29.0      0   \n",
              "\n",
              "     Parch             Ticket     Fare Cabin Embarked  \n",
              "396      0             350407   7.8542   NaN        S  \n",
              "440      1       F.C.C. 13529  26.2500   NaN        S  \n",
              "840      0   SOTON/O2 3101287   7.9250   NaN        S  \n",
              "187      0             111428  26.5500   NaN        S  \n",
              "859      0               2629   7.2292   NaN        C  \n",
              "231      0             347067   7.7750   NaN        S  \n",
              "564      0  SOTON/O.Q. 392087   8.0500   NaN        S  \n",
              "355      0             345783   9.5000   NaN        S  \n",
              "632      0              13214  30.5000   B50        C  \n",
              "713      0               7545   9.4833   NaN        S  "
            ],
            "text/html": [
              "\n",
              "  <div id=\"df-b8fefc58-8872-4aa9-9812-e81c31927f37\" class=\"colab-df-container\">\n",
              "    <div>\n",
              "<style scoped>\n",
              "    .dataframe tbody tr th:only-of-type {\n",
              "        vertical-align: middle;\n",
              "    }\n",
              "\n",
              "    .dataframe tbody tr th {\n",
              "        vertical-align: top;\n",
              "    }\n",
              "\n",
              "    .dataframe thead th {\n",
              "        text-align: right;\n",
              "    }\n",
              "</style>\n",
              "<table border=\"1\" class=\"dataframe\">\n",
              "  <thead>\n",
              "    <tr style=\"text-align: right;\">\n",
              "      <th></th>\n",
              "      <th>PassengerId</th>\n",
              "      <th>Survived</th>\n",
              "      <th>Pclass</th>\n",
              "      <th>Name</th>\n",
              "      <th>Sex</th>\n",
              "      <th>Age</th>\n",
              "      <th>SibSp</th>\n",
              "      <th>Parch</th>\n",
              "      <th>Ticket</th>\n",
              "      <th>Fare</th>\n",
              "      <th>Cabin</th>\n",
              "      <th>Embarked</th>\n",
              "    </tr>\n",
              "  </thead>\n",
              "  <tbody>\n",
              "    <tr>\n",
              "      <th>396</th>\n",
              "      <td>397</td>\n",
              "      <td>0</td>\n",
              "      <td>3</td>\n",
              "      <td>Olsson, Miss. Elina</td>\n",
              "      <td>female</td>\n",
              "      <td>31.0</td>\n",
              "      <td>0</td>\n",
              "      <td>0</td>\n",
              "      <td>350407</td>\n",
              "      <td>7.8542</td>\n",
              "      <td>NaN</td>\n",
              "      <td>S</td>\n",
              "    </tr>\n",
              "    <tr>\n",
              "      <th>440</th>\n",
              "      <td>441</td>\n",
              "      <td>1</td>\n",
              "      <td>2</td>\n",
              "      <td>Hart, Mrs. Benjamin (Esther Ada Bloomfield)</td>\n",
              "      <td>female</td>\n",
              "      <td>45.0</td>\n",
              "      <td>1</td>\n",
              "      <td>1</td>\n",
              "      <td>F.C.C. 13529</td>\n",
              "      <td>26.2500</td>\n",
              "      <td>NaN</td>\n",
              "      <td>S</td>\n",
              "    </tr>\n",
              "    <tr>\n",
              "      <th>840</th>\n",
              "      <td>841</td>\n",
              "      <td>0</td>\n",
              "      <td>3</td>\n",
              "      <td>Alhomaki, Mr. Ilmari Rudolf</td>\n",
              "      <td>male</td>\n",
              "      <td>20.0</td>\n",
              "      <td>0</td>\n",
              "      <td>0</td>\n",
              "      <td>SOTON/O2 3101287</td>\n",
              "      <td>7.9250</td>\n",
              "      <td>NaN</td>\n",
              "      <td>S</td>\n",
              "    </tr>\n",
              "    <tr>\n",
              "      <th>187</th>\n",
              "      <td>188</td>\n",
              "      <td>1</td>\n",
              "      <td>1</td>\n",
              "      <td>Romaine, Mr. Charles Hallace (\"Mr C Rolmane\")</td>\n",
              "      <td>male</td>\n",
              "      <td>45.0</td>\n",
              "      <td>0</td>\n",
              "      <td>0</td>\n",
              "      <td>111428</td>\n",
              "      <td>26.5500</td>\n",
              "      <td>NaN</td>\n",
              "      <td>S</td>\n",
              "    </tr>\n",
              "    <tr>\n",
              "      <th>859</th>\n",
              "      <td>860</td>\n",
              "      <td>0</td>\n",
              "      <td>3</td>\n",
              "      <td>Razi, Mr. Raihed</td>\n",
              "      <td>male</td>\n",
              "      <td>NaN</td>\n",
              "      <td>0</td>\n",
              "      <td>0</td>\n",
              "      <td>2629</td>\n",
              "      <td>7.2292</td>\n",
              "      <td>NaN</td>\n",
              "      <td>C</td>\n",
              "    </tr>\n",
              "    <tr>\n",
              "      <th>231</th>\n",
              "      <td>232</td>\n",
              "      <td>0</td>\n",
              "      <td>3</td>\n",
              "      <td>Larsson, Mr. Bengt Edvin</td>\n",
              "      <td>male</td>\n",
              "      <td>29.0</td>\n",
              "      <td>0</td>\n",
              "      <td>0</td>\n",
              "      <td>347067</td>\n",
              "      <td>7.7750</td>\n",
              "      <td>NaN</td>\n",
              "      <td>S</td>\n",
              "    </tr>\n",
              "    <tr>\n",
              "      <th>564</th>\n",
              "      <td>565</td>\n",
              "      <td>0</td>\n",
              "      <td>3</td>\n",
              "      <td>Meanwell, Miss. (Marion Ogden)</td>\n",
              "      <td>female</td>\n",
              "      <td>NaN</td>\n",
              "      <td>0</td>\n",
              "      <td>0</td>\n",
              "      <td>SOTON/O.Q. 392087</td>\n",
              "      <td>8.0500</td>\n",
              "      <td>NaN</td>\n",
              "      <td>S</td>\n",
              "    </tr>\n",
              "    <tr>\n",
              "      <th>355</th>\n",
              "      <td>356</td>\n",
              "      <td>0</td>\n",
              "      <td>3</td>\n",
              "      <td>Vanden Steen, Mr. Leo Peter</td>\n",
              "      <td>male</td>\n",
              "      <td>28.0</td>\n",
              "      <td>0</td>\n",
              "      <td>0</td>\n",
              "      <td>345783</td>\n",
              "      <td>9.5000</td>\n",
              "      <td>NaN</td>\n",
              "      <td>S</td>\n",
              "    </tr>\n",
              "    <tr>\n",
              "      <th>632</th>\n",
              "      <td>633</td>\n",
              "      <td>1</td>\n",
              "      <td>1</td>\n",
              "      <td>Stahelin-Maeglin, Dr. Max</td>\n",
              "      <td>male</td>\n",
              "      <td>32.0</td>\n",
              "      <td>0</td>\n",
              "      <td>0</td>\n",
              "      <td>13214</td>\n",
              "      <td>30.5000</td>\n",
              "      <td>B50</td>\n",
              "      <td>C</td>\n",
              "    </tr>\n",
              "    <tr>\n",
              "      <th>713</th>\n",
              "      <td>714</td>\n",
              "      <td>0</td>\n",
              "      <td>3</td>\n",
              "      <td>Larsson, Mr. August Viktor</td>\n",
              "      <td>male</td>\n",
              "      <td>29.0</td>\n",
              "      <td>0</td>\n",
              "      <td>0</td>\n",
              "      <td>7545</td>\n",
              "      <td>9.4833</td>\n",
              "      <td>NaN</td>\n",
              "      <td>S</td>\n",
              "    </tr>\n",
              "  </tbody>\n",
              "</table>\n",
              "</div>\n",
              "    <div class=\"colab-df-buttons\">\n",
              "\n",
              "  <div class=\"colab-df-container\">\n",
              "    <button class=\"colab-df-convert\" onclick=\"convertToInteractive('df-b8fefc58-8872-4aa9-9812-e81c31927f37')\"\n",
              "            title=\"Convert this dataframe to an interactive table.\"\n",
              "            style=\"display:none;\">\n",
              "\n",
              "  <svg xmlns=\"http://www.w3.org/2000/svg\" height=\"24px\" viewBox=\"0 -960 960 960\">\n",
              "    <path d=\"M120-120v-720h720v720H120Zm60-500h600v-160H180v160Zm220 220h160v-160H400v160Zm0 220h160v-160H400v160ZM180-400h160v-160H180v160Zm440 0h160v-160H620v160ZM180-180h160v-160H180v160Zm440 0h160v-160H620v160Z\"/>\n",
              "  </svg>\n",
              "    </button>\n",
              "\n",
              "  <style>\n",
              "    .colab-df-container {\n",
              "      display:flex;\n",
              "      gap: 12px;\n",
              "    }\n",
              "\n",
              "    .colab-df-convert {\n",
              "      background-color: #E8F0FE;\n",
              "      border: none;\n",
              "      border-radius: 50%;\n",
              "      cursor: pointer;\n",
              "      display: none;\n",
              "      fill: #1967D2;\n",
              "      height: 32px;\n",
              "      padding: 0 0 0 0;\n",
              "      width: 32px;\n",
              "    }\n",
              "\n",
              "    .colab-df-convert:hover {\n",
              "      background-color: #E2EBFA;\n",
              "      box-shadow: 0px 1px 2px rgba(60, 64, 67, 0.3), 0px 1px 3px 1px rgba(60, 64, 67, 0.15);\n",
              "      fill: #174EA6;\n",
              "    }\n",
              "\n",
              "    .colab-df-buttons div {\n",
              "      margin-bottom: 4px;\n",
              "    }\n",
              "\n",
              "    [theme=dark] .colab-df-convert {\n",
              "      background-color: #3B4455;\n",
              "      fill: #D2E3FC;\n",
              "    }\n",
              "\n",
              "    [theme=dark] .colab-df-convert:hover {\n",
              "      background-color: #434B5C;\n",
              "      box-shadow: 0px 1px 3px 1px rgba(0, 0, 0, 0.15);\n",
              "      filter: drop-shadow(0px 1px 2px rgba(0, 0, 0, 0.3));\n",
              "      fill: #FFFFFF;\n",
              "    }\n",
              "  </style>\n",
              "\n",
              "    <script>\n",
              "      const buttonEl =\n",
              "        document.querySelector('#df-b8fefc58-8872-4aa9-9812-e81c31927f37 button.colab-df-convert');\n",
              "      buttonEl.style.display =\n",
              "        google.colab.kernel.accessAllowed ? 'block' : 'none';\n",
              "\n",
              "      async function convertToInteractive(key) {\n",
              "        const element = document.querySelector('#df-b8fefc58-8872-4aa9-9812-e81c31927f37');\n",
              "        const dataTable =\n",
              "          await google.colab.kernel.invokeFunction('convertToInteractive',\n",
              "                                                    [key], {});\n",
              "        if (!dataTable) return;\n",
              "\n",
              "        const docLinkHtml = 'Like what you see? Visit the ' +\n",
              "          '<a target=\"_blank\" href=https://colab.research.google.com/notebooks/data_table.ipynb>data table notebook</a>'\n",
              "          + ' to learn more about interactive tables.';\n",
              "        element.innerHTML = '';\n",
              "        dataTable['output_type'] = 'display_data';\n",
              "        await google.colab.output.renderOutput(dataTable, element);\n",
              "        const docLink = document.createElement('div');\n",
              "        docLink.innerHTML = docLinkHtml;\n",
              "        element.appendChild(docLink);\n",
              "      }\n",
              "    </script>\n",
              "  </div>\n",
              "\n",
              "\n",
              "<div id=\"df-d6225895-935c-453d-92cf-26540acdc4d2\">\n",
              "  <button class=\"colab-df-quickchart\" onclick=\"quickchart('df-d6225895-935c-453d-92cf-26540acdc4d2')\"\n",
              "            title=\"Suggest charts\"\n",
              "            style=\"display:none;\">\n",
              "\n",
              "<svg xmlns=\"http://www.w3.org/2000/svg\" height=\"24px\"viewBox=\"0 0 24 24\"\n",
              "     width=\"24px\">\n",
              "    <g>\n",
              "        <path d=\"M19 3H5c-1.1 0-2 .9-2 2v14c0 1.1.9 2 2 2h14c1.1 0 2-.9 2-2V5c0-1.1-.9-2-2-2zM9 17H7v-7h2v7zm4 0h-2V7h2v10zm4 0h-2v-4h2v4z\"/>\n",
              "    </g>\n",
              "</svg>\n",
              "  </button>\n",
              "\n",
              "<style>\n",
              "  .colab-df-quickchart {\n",
              "      --bg-color: #E8F0FE;\n",
              "      --fill-color: #1967D2;\n",
              "      --hover-bg-color: #E2EBFA;\n",
              "      --hover-fill-color: #174EA6;\n",
              "      --disabled-fill-color: #AAA;\n",
              "      --disabled-bg-color: #DDD;\n",
              "  }\n",
              "\n",
              "  [theme=dark] .colab-df-quickchart {\n",
              "      --bg-color: #3B4455;\n",
              "      --fill-color: #D2E3FC;\n",
              "      --hover-bg-color: #434B5C;\n",
              "      --hover-fill-color: #FFFFFF;\n",
              "      --disabled-bg-color: #3B4455;\n",
              "      --disabled-fill-color: #666;\n",
              "  }\n",
              "\n",
              "  .colab-df-quickchart {\n",
              "    background-color: var(--bg-color);\n",
              "    border: none;\n",
              "    border-radius: 50%;\n",
              "    cursor: pointer;\n",
              "    display: none;\n",
              "    fill: var(--fill-color);\n",
              "    height: 32px;\n",
              "    padding: 0;\n",
              "    width: 32px;\n",
              "  }\n",
              "\n",
              "  .colab-df-quickchart:hover {\n",
              "    background-color: var(--hover-bg-color);\n",
              "    box-shadow: 0 1px 2px rgba(60, 64, 67, 0.3), 0 1px 3px 1px rgba(60, 64, 67, 0.15);\n",
              "    fill: var(--button-hover-fill-color);\n",
              "  }\n",
              "\n",
              "  .colab-df-quickchart-complete:disabled,\n",
              "  .colab-df-quickchart-complete:disabled:hover {\n",
              "    background-color: var(--disabled-bg-color);\n",
              "    fill: var(--disabled-fill-color);\n",
              "    box-shadow: none;\n",
              "  }\n",
              "\n",
              "  .colab-df-spinner {\n",
              "    border: 2px solid var(--fill-color);\n",
              "    border-color: transparent;\n",
              "    border-bottom-color: var(--fill-color);\n",
              "    animation:\n",
              "      spin 1s steps(1) infinite;\n",
              "  }\n",
              "\n",
              "  @keyframes spin {\n",
              "    0% {\n",
              "      border-color: transparent;\n",
              "      border-bottom-color: var(--fill-color);\n",
              "      border-left-color: var(--fill-color);\n",
              "    }\n",
              "    20% {\n",
              "      border-color: transparent;\n",
              "      border-left-color: var(--fill-color);\n",
              "      border-top-color: var(--fill-color);\n",
              "    }\n",
              "    30% {\n",
              "      border-color: transparent;\n",
              "      border-left-color: var(--fill-color);\n",
              "      border-top-color: var(--fill-color);\n",
              "      border-right-color: var(--fill-color);\n",
              "    }\n",
              "    40% {\n",
              "      border-color: transparent;\n",
              "      border-right-color: var(--fill-color);\n",
              "      border-top-color: var(--fill-color);\n",
              "    }\n",
              "    60% {\n",
              "      border-color: transparent;\n",
              "      border-right-color: var(--fill-color);\n",
              "    }\n",
              "    80% {\n",
              "      border-color: transparent;\n",
              "      border-right-color: var(--fill-color);\n",
              "      border-bottom-color: var(--fill-color);\n",
              "    }\n",
              "    90% {\n",
              "      border-color: transparent;\n",
              "      border-bottom-color: var(--fill-color);\n",
              "    }\n",
              "  }\n",
              "</style>\n",
              "\n",
              "  <script>\n",
              "    async function quickchart(key) {\n",
              "      const quickchartButtonEl =\n",
              "        document.querySelector('#' + key + ' button');\n",
              "      quickchartButtonEl.disabled = true;  // To prevent multiple clicks.\n",
              "      quickchartButtonEl.classList.add('colab-df-spinner');\n",
              "      try {\n",
              "        const charts = await google.colab.kernel.invokeFunction(\n",
              "            'suggestCharts', [key], {});\n",
              "      } catch (error) {\n",
              "        console.error('Error during call to suggestCharts:', error);\n",
              "      }\n",
              "      quickchartButtonEl.classList.remove('colab-df-spinner');\n",
              "      quickchartButtonEl.classList.add('colab-df-quickchart-complete');\n",
              "    }\n",
              "    (() => {\n",
              "      let quickchartButtonEl =\n",
              "        document.querySelector('#df-d6225895-935c-453d-92cf-26540acdc4d2 button');\n",
              "      quickchartButtonEl.style.display =\n",
              "        google.colab.kernel.accessAllowed ? 'block' : 'none';\n",
              "    })();\n",
              "  </script>\n",
              "</div>\n",
              "\n",
              "    </div>\n",
              "  </div>\n"
            ],
            "application/vnd.google.colaboratory.intrinsic+json": {
              "type": "dataframe",
              "summary": "{\n  \"name\": \"train\",\n  \"rows\": 10,\n  \"fields\": [\n    {\n      \"column\": \"PassengerId\",\n      \"properties\": {\n        \"dtype\": \"number\",\n        \"std\": 238,\n        \"min\": 188,\n        \"max\": 860,\n        \"num_unique_values\": 10,\n        \"samples\": [\n          633,\n          441,\n          232\n        ],\n        \"semantic_type\": \"\",\n        \"description\": \"\"\n      }\n    },\n    {\n      \"column\": \"Survived\",\n      \"properties\": {\n        \"dtype\": \"number\",\n        \"std\": 0,\n        \"min\": 0,\n        \"max\": 1,\n        \"num_unique_values\": 2,\n        \"samples\": [\n          1,\n          0\n        ],\n        \"semantic_type\": \"\",\n        \"description\": \"\"\n      }\n    },\n    {\n      \"column\": \"Pclass\",\n      \"properties\": {\n        \"dtype\": \"number\",\n        \"std\": 0,\n        \"min\": 1,\n        \"max\": 3,\n        \"num_unique_values\": 3,\n        \"samples\": [\n          3,\n          2\n        ],\n        \"semantic_type\": \"\",\n        \"description\": \"\"\n      }\n    },\n    {\n      \"column\": \"Name\",\n      \"properties\": {\n        \"dtype\": \"string\",\n        \"num_unique_values\": 10,\n        \"samples\": [\n          \"Stahelin-Maeglin, Dr. Max\",\n          \"Hart, Mrs. Benjamin (Esther Ada Bloomfield)\"\n        ],\n        \"semantic_type\": \"\",\n        \"description\": \"\"\n      }\n    },\n    {\n      \"column\": \"Sex\",\n      \"properties\": {\n        \"dtype\": \"category\",\n        \"num_unique_values\": 2,\n        \"samples\": [\n          \"male\",\n          \"female\"\n        ],\n        \"semantic_type\": \"\",\n        \"description\": \"\"\n      }\n    },\n    {\n      \"column\": \"Age\",\n      \"properties\": {\n        \"dtype\": \"number\",\n        \"std\": 8.584662402880417,\n        \"min\": 20.0,\n        \"max\": 45.0,\n        \"num_unique_values\": 6,\n        \"samples\": [\n          31.0,\n          45.0\n        ],\n        \"semantic_type\": \"\",\n        \"description\": \"\"\n      }\n    },\n    {\n      \"column\": \"SibSp\",\n      \"properties\": {\n        \"dtype\": \"number\",\n        \"std\": 0,\n        \"min\": 0,\n        \"max\": 1,\n        \"num_unique_values\": 2,\n        \"samples\": [\n          1,\n          0\n        ],\n        \"semantic_type\": \"\",\n        \"description\": \"\"\n      }\n    },\n    {\n      \"column\": \"Parch\",\n      \"properties\": {\n        \"dtype\": \"number\",\n        \"std\": 0,\n        \"min\": 0,\n        \"max\": 1,\n        \"num_unique_values\": 2,\n        \"samples\": [\n          1,\n          0\n        ],\n        \"semantic_type\": \"\",\n        \"description\": \"\"\n      }\n    },\n    {\n      \"column\": \"Ticket\",\n      \"properties\": {\n        \"dtype\": \"string\",\n        \"num_unique_values\": 10,\n        \"samples\": [\n          \"13214\",\n          \"F.C.C. 13529\"\n        ],\n        \"semantic_type\": \"\",\n        \"description\": \"\"\n      }\n    },\n    {\n      \"column\": \"Fare\",\n      \"properties\": {\n        \"dtype\": \"number\",\n        \"std\": 9.516151283656878,\n        \"min\": 7.2292,\n        \"max\": 30.5,\n        \"num_unique_values\": 10,\n        \"samples\": [\n          30.5,\n          26.25\n        ],\n        \"semantic_type\": \"\",\n        \"description\": \"\"\n      }\n    },\n    {\n      \"column\": \"Cabin\",\n      \"properties\": {\n        \"dtype\": \"category\",\n        \"num_unique_values\": 1,\n        \"samples\": [\n          \"B50\"\n        ],\n        \"semantic_type\": \"\",\n        \"description\": \"\"\n      }\n    },\n    {\n      \"column\": \"Embarked\",\n      \"properties\": {\n        \"dtype\": \"category\",\n        \"num_unique_values\": 2,\n        \"samples\": [\n          \"C\"\n        ],\n        \"semantic_type\": \"\",\n        \"description\": \"\"\n      }\n    }\n  ]\n}"
            }
          },
          "metadata": {},
          "execution_count": 74
        }
      ],
      "source": [
        "train = pd.read_csv('drive/MyDrive/Cours/Cours 2024 - 2025/ML | Collecte Données/passagers.csv', dtype={'object': int})\n",
        "train.sample(10)"
      ]
    },
    {
      "cell_type": "markdown",
      "metadata": {
        "id": "fOEXG0omB6ZH"
      },
      "source": [
        "1.2 Charger les données d'apprentissage (Data/test.csv) dans un Dataframe nommé test. Afficher 10 exemples."
      ]
    },
    {
      "cell_type": "code",
      "execution_count": 75,
      "metadata": {
        "_cell_guid": "2ce68358-02ec-556d-ba88-e773a50bc18b",
        "_uuid": "5ec0878acc5c7ab3903410e671c2a2c6cfeafeea",
        "colab": {
          "base_uri": "https://localhost:8080/",
          "height": 817
        },
        "id": "vpDZIHVcB6ZH",
        "outputId": "fe8f13da-930a-4a0d-917d-b826922708ca"
      },
      "outputs": [
        {
          "output_type": "execute_result",
          "data": {
            "text/plain": [
              "     PassengerId  Pclass                                               Name  \\\n",
              "49           941       3     Coutts, Mrs. William (Winnie Minnie\" Treanor)\"   \n",
              "179         1071       1  Compton, Mrs. Alexander Taylor (Mary Eliza Ing...   \n",
              "33           925       3  Johnston, Mrs. Andrew G (Elizabeth Lily\" Watson)\"   \n",
              "184         1076       1  Douglas, Mrs. Frederick Charles (Mary Helene B...   \n",
              "335         1227       1                           Maguire, Mr. John Edward   \n",
              "251         1143       3           Abrahamsson, Mr. Abraham August Johannes   \n",
              "86           978       3                                 Barry, Miss. Julia   \n",
              "223         1115       3                      Karlsson, Mr. Einar Gervasius   \n",
              "117         1009       3                    Sandstrom, Miss. Beatrice Irene   \n",
              "398         1290       3                     Larsson-Rondberg, Mr. Edvard A   \n",
              "\n",
              "        Sex   Age  SibSp  Parch            Ticket      Fare    Cabin Embarked  \n",
              "49   female  36.0      0      2        C.A. 37671   15.9000      NaN        S  \n",
              "179  female  64.0      0      2          PC 17756   83.1583      E45        C  \n",
              "33   female   NaN      1      2        W./C. 6607   23.4500      NaN        S  \n",
              "184  female  27.0      1      1          PC 17558  247.5208  B58 B60        C  \n",
              "335    male  30.0      0      0            110469   26.0000     C106        S  \n",
              "251    male  20.0      0      0  SOTON/O2 3101284    7.9250      NaN        S  \n",
              "86   female  27.0      0      0            330844    7.8792      NaN        Q  \n",
              "223    male  21.0      0      0            350053    7.7958      NaN        S  \n",
              "117  female   1.0      1      1           PP 9549   16.7000       G6        S  \n",
              "398    male  22.0      0      0            347065    7.7750      NaN        S  "
            ],
            "text/html": [
              "\n",
              "  <div id=\"df-c8662782-ea00-4f48-8e81-77bbd80c9163\" class=\"colab-df-container\">\n",
              "    <div>\n",
              "<style scoped>\n",
              "    .dataframe tbody tr th:only-of-type {\n",
              "        vertical-align: middle;\n",
              "    }\n",
              "\n",
              "    .dataframe tbody tr th {\n",
              "        vertical-align: top;\n",
              "    }\n",
              "\n",
              "    .dataframe thead th {\n",
              "        text-align: right;\n",
              "    }\n",
              "</style>\n",
              "<table border=\"1\" class=\"dataframe\">\n",
              "  <thead>\n",
              "    <tr style=\"text-align: right;\">\n",
              "      <th></th>\n",
              "      <th>PassengerId</th>\n",
              "      <th>Pclass</th>\n",
              "      <th>Name</th>\n",
              "      <th>Sex</th>\n",
              "      <th>Age</th>\n",
              "      <th>SibSp</th>\n",
              "      <th>Parch</th>\n",
              "      <th>Ticket</th>\n",
              "      <th>Fare</th>\n",
              "      <th>Cabin</th>\n",
              "      <th>Embarked</th>\n",
              "    </tr>\n",
              "  </thead>\n",
              "  <tbody>\n",
              "    <tr>\n",
              "      <th>49</th>\n",
              "      <td>941</td>\n",
              "      <td>3</td>\n",
              "      <td>Coutts, Mrs. William (Winnie Minnie\" Treanor)\"</td>\n",
              "      <td>female</td>\n",
              "      <td>36.0</td>\n",
              "      <td>0</td>\n",
              "      <td>2</td>\n",
              "      <td>C.A. 37671</td>\n",
              "      <td>15.9000</td>\n",
              "      <td>NaN</td>\n",
              "      <td>S</td>\n",
              "    </tr>\n",
              "    <tr>\n",
              "      <th>179</th>\n",
              "      <td>1071</td>\n",
              "      <td>1</td>\n",
              "      <td>Compton, Mrs. Alexander Taylor (Mary Eliza Ing...</td>\n",
              "      <td>female</td>\n",
              "      <td>64.0</td>\n",
              "      <td>0</td>\n",
              "      <td>2</td>\n",
              "      <td>PC 17756</td>\n",
              "      <td>83.1583</td>\n",
              "      <td>E45</td>\n",
              "      <td>C</td>\n",
              "    </tr>\n",
              "    <tr>\n",
              "      <th>33</th>\n",
              "      <td>925</td>\n",
              "      <td>3</td>\n",
              "      <td>Johnston, Mrs. Andrew G (Elizabeth Lily\" Watson)\"</td>\n",
              "      <td>female</td>\n",
              "      <td>NaN</td>\n",
              "      <td>1</td>\n",
              "      <td>2</td>\n",
              "      <td>W./C. 6607</td>\n",
              "      <td>23.4500</td>\n",
              "      <td>NaN</td>\n",
              "      <td>S</td>\n",
              "    </tr>\n",
              "    <tr>\n",
              "      <th>184</th>\n",
              "      <td>1076</td>\n",
              "      <td>1</td>\n",
              "      <td>Douglas, Mrs. Frederick Charles (Mary Helene B...</td>\n",
              "      <td>female</td>\n",
              "      <td>27.0</td>\n",
              "      <td>1</td>\n",
              "      <td>1</td>\n",
              "      <td>PC 17558</td>\n",
              "      <td>247.5208</td>\n",
              "      <td>B58 B60</td>\n",
              "      <td>C</td>\n",
              "    </tr>\n",
              "    <tr>\n",
              "      <th>335</th>\n",
              "      <td>1227</td>\n",
              "      <td>1</td>\n",
              "      <td>Maguire, Mr. John Edward</td>\n",
              "      <td>male</td>\n",
              "      <td>30.0</td>\n",
              "      <td>0</td>\n",
              "      <td>0</td>\n",
              "      <td>110469</td>\n",
              "      <td>26.0000</td>\n",
              "      <td>C106</td>\n",
              "      <td>S</td>\n",
              "    </tr>\n",
              "    <tr>\n",
              "      <th>251</th>\n",
              "      <td>1143</td>\n",
              "      <td>3</td>\n",
              "      <td>Abrahamsson, Mr. Abraham August Johannes</td>\n",
              "      <td>male</td>\n",
              "      <td>20.0</td>\n",
              "      <td>0</td>\n",
              "      <td>0</td>\n",
              "      <td>SOTON/O2 3101284</td>\n",
              "      <td>7.9250</td>\n",
              "      <td>NaN</td>\n",
              "      <td>S</td>\n",
              "    </tr>\n",
              "    <tr>\n",
              "      <th>86</th>\n",
              "      <td>978</td>\n",
              "      <td>3</td>\n",
              "      <td>Barry, Miss. Julia</td>\n",
              "      <td>female</td>\n",
              "      <td>27.0</td>\n",
              "      <td>0</td>\n",
              "      <td>0</td>\n",
              "      <td>330844</td>\n",
              "      <td>7.8792</td>\n",
              "      <td>NaN</td>\n",
              "      <td>Q</td>\n",
              "    </tr>\n",
              "    <tr>\n",
              "      <th>223</th>\n",
              "      <td>1115</td>\n",
              "      <td>3</td>\n",
              "      <td>Karlsson, Mr. Einar Gervasius</td>\n",
              "      <td>male</td>\n",
              "      <td>21.0</td>\n",
              "      <td>0</td>\n",
              "      <td>0</td>\n",
              "      <td>350053</td>\n",
              "      <td>7.7958</td>\n",
              "      <td>NaN</td>\n",
              "      <td>S</td>\n",
              "    </tr>\n",
              "    <tr>\n",
              "      <th>117</th>\n",
              "      <td>1009</td>\n",
              "      <td>3</td>\n",
              "      <td>Sandstrom, Miss. Beatrice Irene</td>\n",
              "      <td>female</td>\n",
              "      <td>1.0</td>\n",
              "      <td>1</td>\n",
              "      <td>1</td>\n",
              "      <td>PP 9549</td>\n",
              "      <td>16.7000</td>\n",
              "      <td>G6</td>\n",
              "      <td>S</td>\n",
              "    </tr>\n",
              "    <tr>\n",
              "      <th>398</th>\n",
              "      <td>1290</td>\n",
              "      <td>3</td>\n",
              "      <td>Larsson-Rondberg, Mr. Edvard A</td>\n",
              "      <td>male</td>\n",
              "      <td>22.0</td>\n",
              "      <td>0</td>\n",
              "      <td>0</td>\n",
              "      <td>347065</td>\n",
              "      <td>7.7750</td>\n",
              "      <td>NaN</td>\n",
              "      <td>S</td>\n",
              "    </tr>\n",
              "  </tbody>\n",
              "</table>\n",
              "</div>\n",
              "    <div class=\"colab-df-buttons\">\n",
              "\n",
              "  <div class=\"colab-df-container\">\n",
              "    <button class=\"colab-df-convert\" onclick=\"convertToInteractive('df-c8662782-ea00-4f48-8e81-77bbd80c9163')\"\n",
              "            title=\"Convert this dataframe to an interactive table.\"\n",
              "            style=\"display:none;\">\n",
              "\n",
              "  <svg xmlns=\"http://www.w3.org/2000/svg\" height=\"24px\" viewBox=\"0 -960 960 960\">\n",
              "    <path d=\"M120-120v-720h720v720H120Zm60-500h600v-160H180v160Zm220 220h160v-160H400v160Zm0 220h160v-160H400v160ZM180-400h160v-160H180v160Zm440 0h160v-160H620v160ZM180-180h160v-160H180v160Zm440 0h160v-160H620v160Z\"/>\n",
              "  </svg>\n",
              "    </button>\n",
              "\n",
              "  <style>\n",
              "    .colab-df-container {\n",
              "      display:flex;\n",
              "      gap: 12px;\n",
              "    }\n",
              "\n",
              "    .colab-df-convert {\n",
              "      background-color: #E8F0FE;\n",
              "      border: none;\n",
              "      border-radius: 50%;\n",
              "      cursor: pointer;\n",
              "      display: none;\n",
              "      fill: #1967D2;\n",
              "      height: 32px;\n",
              "      padding: 0 0 0 0;\n",
              "      width: 32px;\n",
              "    }\n",
              "\n",
              "    .colab-df-convert:hover {\n",
              "      background-color: #E2EBFA;\n",
              "      box-shadow: 0px 1px 2px rgba(60, 64, 67, 0.3), 0px 1px 3px 1px rgba(60, 64, 67, 0.15);\n",
              "      fill: #174EA6;\n",
              "    }\n",
              "\n",
              "    .colab-df-buttons div {\n",
              "      margin-bottom: 4px;\n",
              "    }\n",
              "\n",
              "    [theme=dark] .colab-df-convert {\n",
              "      background-color: #3B4455;\n",
              "      fill: #D2E3FC;\n",
              "    }\n",
              "\n",
              "    [theme=dark] .colab-df-convert:hover {\n",
              "      background-color: #434B5C;\n",
              "      box-shadow: 0px 1px 3px 1px rgba(0, 0, 0, 0.15);\n",
              "      filter: drop-shadow(0px 1px 2px rgba(0, 0, 0, 0.3));\n",
              "      fill: #FFFFFF;\n",
              "    }\n",
              "  </style>\n",
              "\n",
              "    <script>\n",
              "      const buttonEl =\n",
              "        document.querySelector('#df-c8662782-ea00-4f48-8e81-77bbd80c9163 button.colab-df-convert');\n",
              "      buttonEl.style.display =\n",
              "        google.colab.kernel.accessAllowed ? 'block' : 'none';\n",
              "\n",
              "      async function convertToInteractive(key) {\n",
              "        const element = document.querySelector('#df-c8662782-ea00-4f48-8e81-77bbd80c9163');\n",
              "        const dataTable =\n",
              "          await google.colab.kernel.invokeFunction('convertToInteractive',\n",
              "                                                    [key], {});\n",
              "        if (!dataTable) return;\n",
              "\n",
              "        const docLinkHtml = 'Like what you see? Visit the ' +\n",
              "          '<a target=\"_blank\" href=https://colab.research.google.com/notebooks/data_table.ipynb>data table notebook</a>'\n",
              "          + ' to learn more about interactive tables.';\n",
              "        element.innerHTML = '';\n",
              "        dataTable['output_type'] = 'display_data';\n",
              "        await google.colab.output.renderOutput(dataTable, element);\n",
              "        const docLink = document.createElement('div');\n",
              "        docLink.innerHTML = docLinkHtml;\n",
              "        element.appendChild(docLink);\n",
              "      }\n",
              "    </script>\n",
              "  </div>\n",
              "\n",
              "\n",
              "<div id=\"df-0c4886e6-3c65-4e33-ba63-00a9f324cde4\">\n",
              "  <button class=\"colab-df-quickchart\" onclick=\"quickchart('df-0c4886e6-3c65-4e33-ba63-00a9f324cde4')\"\n",
              "            title=\"Suggest charts\"\n",
              "            style=\"display:none;\">\n",
              "\n",
              "<svg xmlns=\"http://www.w3.org/2000/svg\" height=\"24px\"viewBox=\"0 0 24 24\"\n",
              "     width=\"24px\">\n",
              "    <g>\n",
              "        <path d=\"M19 3H5c-1.1 0-2 .9-2 2v14c0 1.1.9 2 2 2h14c1.1 0 2-.9 2-2V5c0-1.1-.9-2-2-2zM9 17H7v-7h2v7zm4 0h-2V7h2v10zm4 0h-2v-4h2v4z\"/>\n",
              "    </g>\n",
              "</svg>\n",
              "  </button>\n",
              "\n",
              "<style>\n",
              "  .colab-df-quickchart {\n",
              "      --bg-color: #E8F0FE;\n",
              "      --fill-color: #1967D2;\n",
              "      --hover-bg-color: #E2EBFA;\n",
              "      --hover-fill-color: #174EA6;\n",
              "      --disabled-fill-color: #AAA;\n",
              "      --disabled-bg-color: #DDD;\n",
              "  }\n",
              "\n",
              "  [theme=dark] .colab-df-quickchart {\n",
              "      --bg-color: #3B4455;\n",
              "      --fill-color: #D2E3FC;\n",
              "      --hover-bg-color: #434B5C;\n",
              "      --hover-fill-color: #FFFFFF;\n",
              "      --disabled-bg-color: #3B4455;\n",
              "      --disabled-fill-color: #666;\n",
              "  }\n",
              "\n",
              "  .colab-df-quickchart {\n",
              "    background-color: var(--bg-color);\n",
              "    border: none;\n",
              "    border-radius: 50%;\n",
              "    cursor: pointer;\n",
              "    display: none;\n",
              "    fill: var(--fill-color);\n",
              "    height: 32px;\n",
              "    padding: 0;\n",
              "    width: 32px;\n",
              "  }\n",
              "\n",
              "  .colab-df-quickchart:hover {\n",
              "    background-color: var(--hover-bg-color);\n",
              "    box-shadow: 0 1px 2px rgba(60, 64, 67, 0.3), 0 1px 3px 1px rgba(60, 64, 67, 0.15);\n",
              "    fill: var(--button-hover-fill-color);\n",
              "  }\n",
              "\n",
              "  .colab-df-quickchart-complete:disabled,\n",
              "  .colab-df-quickchart-complete:disabled:hover {\n",
              "    background-color: var(--disabled-bg-color);\n",
              "    fill: var(--disabled-fill-color);\n",
              "    box-shadow: none;\n",
              "  }\n",
              "\n",
              "  .colab-df-spinner {\n",
              "    border: 2px solid var(--fill-color);\n",
              "    border-color: transparent;\n",
              "    border-bottom-color: var(--fill-color);\n",
              "    animation:\n",
              "      spin 1s steps(1) infinite;\n",
              "  }\n",
              "\n",
              "  @keyframes spin {\n",
              "    0% {\n",
              "      border-color: transparent;\n",
              "      border-bottom-color: var(--fill-color);\n",
              "      border-left-color: var(--fill-color);\n",
              "    }\n",
              "    20% {\n",
              "      border-color: transparent;\n",
              "      border-left-color: var(--fill-color);\n",
              "      border-top-color: var(--fill-color);\n",
              "    }\n",
              "    30% {\n",
              "      border-color: transparent;\n",
              "      border-left-color: var(--fill-color);\n",
              "      border-top-color: var(--fill-color);\n",
              "      border-right-color: var(--fill-color);\n",
              "    }\n",
              "    40% {\n",
              "      border-color: transparent;\n",
              "      border-right-color: var(--fill-color);\n",
              "      border-top-color: var(--fill-color);\n",
              "    }\n",
              "    60% {\n",
              "      border-color: transparent;\n",
              "      border-right-color: var(--fill-color);\n",
              "    }\n",
              "    80% {\n",
              "      border-color: transparent;\n",
              "      border-right-color: var(--fill-color);\n",
              "      border-bottom-color: var(--fill-color);\n",
              "    }\n",
              "    90% {\n",
              "      border-color: transparent;\n",
              "      border-bottom-color: var(--fill-color);\n",
              "    }\n",
              "  }\n",
              "</style>\n",
              "\n",
              "  <script>\n",
              "    async function quickchart(key) {\n",
              "      const quickchartButtonEl =\n",
              "        document.querySelector('#' + key + ' button');\n",
              "      quickchartButtonEl.disabled = true;  // To prevent multiple clicks.\n",
              "      quickchartButtonEl.classList.add('colab-df-spinner');\n",
              "      try {\n",
              "        const charts = await google.colab.kernel.invokeFunction(\n",
              "            'suggestCharts', [key], {});\n",
              "      } catch (error) {\n",
              "        console.error('Error during call to suggestCharts:', error);\n",
              "      }\n",
              "      quickchartButtonEl.classList.remove('colab-df-spinner');\n",
              "      quickchartButtonEl.classList.add('colab-df-quickchart-complete');\n",
              "    }\n",
              "    (() => {\n",
              "      let quickchartButtonEl =\n",
              "        document.querySelector('#df-0c4886e6-3c65-4e33-ba63-00a9f324cde4 button');\n",
              "      quickchartButtonEl.style.display =\n",
              "        google.colab.kernel.accessAllowed ? 'block' : 'none';\n",
              "    })();\n",
              "  </script>\n",
              "</div>\n",
              "\n",
              "    </div>\n",
              "  </div>\n"
            ],
            "application/vnd.google.colaboratory.intrinsic+json": {
              "type": "dataframe",
              "summary": "{\n  \"name\": \"test\",\n  \"rows\": 10,\n  \"fields\": [\n    {\n      \"column\": \"PassengerId\",\n      \"properties\": {\n        \"dtype\": \"number\",\n        \"std\": 120,\n        \"min\": 925,\n        \"max\": 1290,\n        \"num_unique_values\": 10,\n        \"samples\": [\n          1009,\n          1071,\n          1143\n        ],\n        \"semantic_type\": \"\",\n        \"description\": \"\"\n      }\n    },\n    {\n      \"column\": \"Pclass\",\n      \"properties\": {\n        \"dtype\": \"number\",\n        \"std\": 0,\n        \"min\": 1,\n        \"max\": 3,\n        \"num_unique_values\": 2,\n        \"samples\": [\n          1,\n          3\n        ],\n        \"semantic_type\": \"\",\n        \"description\": \"\"\n      }\n    },\n    {\n      \"column\": \"Name\",\n      \"properties\": {\n        \"dtype\": \"string\",\n        \"num_unique_values\": 10,\n        \"samples\": [\n          \"Sandstrom, Miss. Beatrice Irene\",\n          \"Compton, Mrs. Alexander Taylor (Mary Eliza Ingersoll)\"\n        ],\n        \"semantic_type\": \"\",\n        \"description\": \"\"\n      }\n    },\n    {\n      \"column\": \"Sex\",\n      \"properties\": {\n        \"dtype\": \"category\",\n        \"num_unique_values\": 2,\n        \"samples\": [\n          \"male\",\n          \"female\"\n        ],\n        \"semantic_type\": \"\",\n        \"description\": \"\"\n      }\n    },\n    {\n      \"column\": \"Age\",\n      \"properties\": {\n        \"dtype\": \"number\",\n        \"std\": 16.74149867179691,\n        \"min\": 1.0,\n        \"max\": 64.0,\n        \"num_unique_values\": 8,\n        \"samples\": [\n          64.0,\n          21.0\n        ],\n        \"semantic_type\": \"\",\n        \"description\": \"\"\n      }\n    },\n    {\n      \"column\": \"SibSp\",\n      \"properties\": {\n        \"dtype\": \"number\",\n        \"std\": 0,\n        \"min\": 0,\n        \"max\": 1,\n        \"num_unique_values\": 2,\n        \"samples\": [\n          1,\n          0\n        ],\n        \"semantic_type\": \"\",\n        \"description\": \"\"\n      }\n    },\n    {\n      \"column\": \"Parch\",\n      \"properties\": {\n        \"dtype\": \"number\",\n        \"std\": 0,\n        \"min\": 0,\n        \"max\": 2,\n        \"num_unique_values\": 3,\n        \"samples\": [\n          2,\n          1\n        ],\n        \"semantic_type\": \"\",\n        \"description\": \"\"\n      }\n    },\n    {\n      \"column\": \"Ticket\",\n      \"properties\": {\n        \"dtype\": \"string\",\n        \"num_unique_values\": 10,\n        \"samples\": [\n          \"PP 9549\",\n          \"PC 17756\"\n        ],\n        \"semantic_type\": \"\",\n        \"description\": \"\"\n      }\n    },\n    {\n      \"column\": \"Fare\",\n      \"properties\": {\n        \"dtype\": \"number\",\n        \"std\": 74.87969548855536,\n        \"min\": 7.775,\n        \"max\": 247.5208,\n        \"num_unique_values\": 10,\n        \"samples\": [\n          16.7,\n          83.1583\n        ],\n        \"semantic_type\": \"\",\n        \"description\": \"\"\n      }\n    },\n    {\n      \"column\": \"Cabin\",\n      \"properties\": {\n        \"dtype\": \"category\",\n        \"num_unique_values\": 4,\n        \"samples\": [\n          \"B58 B60\",\n          \"G6\"\n        ],\n        \"semantic_type\": \"\",\n        \"description\": \"\"\n      }\n    },\n    {\n      \"column\": \"Embarked\",\n      \"properties\": {\n        \"dtype\": \"category\",\n        \"num_unique_values\": 3,\n        \"samples\": [\n          \"S\",\n          \"C\"\n        ],\n        \"semantic_type\": \"\",\n        \"description\": \"\"\n      }\n    }\n  ]\n}"
            }
          },
          "metadata": {},
          "execution_count": 75
        }
      ],
      "source": [
        "test = pd.read_csv('drive/MyDrive/Cours/Cours 2024 - 2025/ML | Collecte Données/test.csv', dtype={'object': int})\n",
        "test.sample(10)"
      ]
    },
    {
      "cell_type": "markdown",
      "metadata": {
        "id": "StLNirYyB6ZH"
      },
      "source": [
        "1.3 Afficher les informations des deux DataFrames train et Test."
      ]
    },
    {
      "cell_type": "code",
      "execution_count": 48,
      "metadata": {
        "_cell_guid": "2ce68358-02ec-556d-ba88-e773a50bc18b",
        "_uuid": "5ec0878acc5c7ab3903410e671c2a2c6cfeafeea",
        "colab": {
          "base_uri": "https://localhost:8080/"
        },
        "id": "6uttuVpEB6ZI",
        "outputId": "ae7c0cd6-a72b-4836-a645-3ffa816d698b"
      },
      "outputs": [
        {
          "output_type": "stream",
          "name": "stdout",
          "text": [
            "Informations sur le DataFrame train : \n",
            "<class 'pandas.core.frame.DataFrame'>\n",
            "RangeIndex: 891 entries, 0 to 890\n",
            "Data columns (total 12 columns):\n",
            " #   Column       Non-Null Count  Dtype  \n",
            "---  ------       --------------  -----  \n",
            " 0   PassengerId  891 non-null    int64  \n",
            " 1   Survived     891 non-null    int64  \n",
            " 2   Pclass       891 non-null    int64  \n",
            " 3   Name         891 non-null    object \n",
            " 4   Sex          891 non-null    object \n",
            " 5   Age          714 non-null    float64\n",
            " 6   SibSp        891 non-null    int64  \n",
            " 7   Parch        891 non-null    int64  \n",
            " 8   Ticket       891 non-null    object \n",
            " 9   Fare         891 non-null    float64\n",
            " 10  Cabin        204 non-null    object \n",
            " 11  Embarked     889 non-null    object \n",
            "dtypes: float64(2), int64(5), object(5)\n",
            "memory usage: 83.7+ KB\n",
            "\n",
            "Informations sur le DataFrame test : \n",
            "<class 'pandas.core.frame.DataFrame'>\n",
            "RangeIndex: 418 entries, 0 to 417\n",
            "Data columns (total 11 columns):\n",
            " #   Column       Non-Null Count  Dtype  \n",
            "---  ------       --------------  -----  \n",
            " 0   PassengerId  418 non-null    int64  \n",
            " 1   Pclass       418 non-null    int64  \n",
            " 2   Name         418 non-null    object \n",
            " 3   Sex          418 non-null    object \n",
            " 4   Age          332 non-null    float64\n",
            " 5   SibSp        418 non-null    int64  \n",
            " 6   Parch        418 non-null    int64  \n",
            " 7   Ticket       418 non-null    object \n",
            " 8   Fare         417 non-null    float64\n",
            " 9   Cabin        91 non-null     object \n",
            " 10  Embarked     418 non-null    object \n",
            "dtypes: float64(2), int64(4), object(5)\n",
            "memory usage: 36.1+ KB\n"
          ]
        }
      ],
      "source": [
        "print(\"Informations sur le DataFrame train : \")\n",
        "train.info()\n",
        "\n",
        "print(\"\\nInformations sur le DataFrame test : \")\n",
        "test.info()"
      ]
    },
    {
      "cell_type": "markdown",
      "metadata": {
        "id": "JPQb6rgUB6ZI"
      },
      "source": [
        "1.4 Calculer le taux global de survie"
      ]
    },
    {
      "cell_type": "code",
      "execution_count": 49,
      "metadata": {
        "colab": {
          "base_uri": "https://localhost:8080/"
        },
        "id": "YhUAidRJB6ZI",
        "outputId": "cf63addb-e3d5-4078-efad-9a7cb2ef02d5"
      },
      "outputs": [
        {
          "output_type": "stream",
          "name": "stdout",
          "text": [
            "Taux global de survie : 38.38%\n"
          ]
        }
      ],
      "source": [
        "survival_rate = (train['Survived'].sum() / len(train)) * 100\n",
        "\n",
        "print(f\"Taux global de survie : {survival_rate:.2f}%\")\n"
      ]
    },
    {
      "cell_type": "markdown",
      "metadata": {
        "id": "mVsFqSNgB6ZI"
      },
      "source": [
        "\n"
      ]
    },
    {
      "cell_type": "markdown",
      "metadata": {
        "id": "T1jE1qbPB6ZI"
      },
      "source": [
        "### Question 1 : Quel Travail voyez-vous pour que les données soient prêtes à faire tourner dans un modèle ?\n",
        "\n",
        "#### Avant d'entraîner un modèle, les données doivent être préparées et triées :\n",
        "\n",
        "- Les données manquantes doivent être ou supprimées, ou renseignées.\n",
        "- Les données incohérentes doivent être corrigées.\n",
        "- Seules les valeurs numériques sont acceptées, il faudra donc convertir les données non-numériques.\n",
        "- Les colonnes inutiles doivent être supprimées.\n",
        "- Les données numériques doivent être ramenées à la même échelle.\n",
        "- On peut créer des nouvelles variables afin de regrouper les données par catégories.\n",
        "\n",
        "<br>\n",
        "\n",
        "#### Dans les sets de données train et test :    \n",
        "- Certaines valeurs sont manquantes - Age contient des valeurs manquantes dans les deux jeux (train et test). Cabin a de nombreuses valeurs manquantes (majorité absentes) → à ignorer ou à transformer. Embarked a 2 valeurs manquantes dans train. Fare a une valeur manquante dans test.\n",
        "- Des variables telles que Sex et Embarked sont à encoder.\n",
        "- En terme de feature ingeneering, il serait possible d'extraire les titres de civilité des noms et leur accorder leur propre colonne, séparer la colonne nom en nom/prénom, créer des catégories d'âge...\n",
        "\n",
        "<br>\n",
        "<br>\n",
        "\n",
        "### Question 2 : Quelle différence y-a-t'il entre les données train et les données test ?\n",
        "\n",
        "Les données test contiennent uniquement les features, sans la variable cible. Elles servent à tester le modèle et générer des prédictions finales. Tandis que les données train contiennent à la fois les features et et la variable cible (Survived). Elles servent à entraîner le modèle à prédire la survie.\n",
        "\n",
        "<br>\n",
        "<br>\n",
        "\n",
        "### Question 3 : Quel est le rôle de ces deux sets de données ?\n",
        "\n",
        "Le set de données test permet de mesurer la performance du modèle sur des données nouvelles et d'éviter l'overfitting, quant au set de données train : il entraîne le modèle pour apprendre les patterns et ajuster ses paramètres.\n"
      ]
    },
    {
      "cell_type": "markdown",
      "metadata": {
        "_cell_guid": "f9595646-65c9-6fc4-395f-0befc4d122ce",
        "_uuid": "66273d64a2548d7a88464ab2a73dbdedfbdc488b",
        "id": "Qk_ejf9OB6ZJ"
      },
      "source": [
        "## 2. Analyse des features"
      ]
    },
    {
      "cell_type": "markdown",
      "metadata": {
        "_cell_guid": "9b4c278b-aaca-e92c-ba77-b9b48379d1f1",
        "_uuid": "c2b62e14d493c270ec8df9f3af1938c479361ef3",
        "id": "GE1WTVmbB6ZJ"
      },
      "source": [
        "2.1 Analyser l'effet de la variable Classe sur le taux de survie, en affichant le % de survie par classe"
      ]
    },
    {
      "cell_type": "code",
      "execution_count": 50,
      "metadata": {
        "colab": {
          "base_uri": "https://localhost:8080/"
        },
        "id": "EnrKbs_lB6ZJ",
        "outputId": "519fc79b-ee21-48a8-f40c-8f8b7004b40f"
      },
      "outputs": [
        {
          "output_type": "stream",
          "name": "stdout",
          "text": [
            "Pclass\n",
            "1    62.96\n",
            "2    47.28\n",
            "3    24.24\n",
            "Name: Survived, dtype: float64\n"
          ]
        }
      ],
      "source": [
        "survival_per_class = train.groupby('Pclass')['Survived'].mean() * 100\n",
        "survival_per_class = survival_per_class.round(2)\n",
        "\n",
        "print(survival_per_class)"
      ]
    },
    {
      "cell_type": "markdown",
      "metadata": {
        "_cell_guid": "4680d950-cf7d-a6ae-e813-535e2247d88e",
        "_uuid": "f02533e7b85bba0cca7fcf2cc598c8da92d7646d",
        "id": "vLh_KhQfB6ZJ"
      },
      "source": [
        "2.2 Analyser l'effet de la variable Genre (Sex) sur le taux de survie, en affichant le % de survie par classe"
      ]
    },
    {
      "cell_type": "code",
      "execution_count": 51,
      "metadata": {
        "_cell_guid": "4680d950-cf7d-a6ae-e813-535e2247d88e",
        "_uuid": "f02533e7b85bba0cca7fcf2cc598c8da92d7646d",
        "colab": {
          "base_uri": "https://localhost:8080/"
        },
        "id": "JAvWY63UB6ZJ",
        "outputId": "1efefe11-5e09-4184-cd59-1f48c5fd63f2"
      },
      "outputs": [
        {
          "output_type": "stream",
          "name": "stdout",
          "text": [
            "Pclass  Sex   \n",
            "1       female    96.81\n",
            "        male      36.89\n",
            "2       female    92.11\n",
            "        male      15.74\n",
            "3       female    50.00\n",
            "        male      13.54\n",
            "Name: Survived, dtype: float64\n"
          ]
        }
      ],
      "source": [
        "survival_per_gender_class = train.groupby(['Pclass', 'Sex'])['Survived'].mean() * 100\n",
        "survival_per_gender_class = survival_per_gender_class.round(2)\n",
        "\n",
        "print(survival_per_gender_class)"
      ]
    },
    {
      "cell_type": "markdown",
      "metadata": {
        "_cell_guid": "7c58b7ee-d6a1-0cc9-2346-81c47846a54a",
        "_uuid": "88185e9222c26d5d23caaeb209c18710a231b5f9",
        "id": "JUU711vHB6ZJ"
      },
      "source": [
        "2.3 Calculer une nouvelle colonne FamilySize contenant la taille de la famille, pour les DataFrame train et Test. Afficher pour 10 exemples l'Id du passager, le nom, l'age, le sexe et la taille de la famille."
      ]
    },
    {
      "cell_type": "code",
      "execution_count": 52,
      "metadata": {
        "_cell_guid": "1a537f10-7cec-d0b7-8a34-fa9975655190",
        "_uuid": "ccc4a4cf7624dd4be450fd62ca3ad478d4e75696",
        "colab": {
          "base_uri": "https://localhost:8080/"
        },
        "id": "R-t-5wuiB6ZJ",
        "outputId": "c8d84057-ec90-4c8c-be6d-fe2f4063aafb"
      },
      "outputs": [
        {
          "output_type": "stream",
          "name": "stdout",
          "text": [
            "   PassengerId                                               Name   Age  \\\n",
            "0            1                            Braund, Mr. Owen Harris  22.0   \n",
            "1            2  Cumings, Mrs. John Bradley (Florence Briggs Th...  38.0   \n",
            "2            3                             Heikkinen, Miss. Laina  26.0   \n",
            "3            4       Futrelle, Mrs. Jacques Heath (Lily May Peel)  35.0   \n",
            "4            5                           Allen, Mr. William Henry  35.0   \n",
            "5            6                                   Moran, Mr. James   NaN   \n",
            "6            7                            McCarthy, Mr. Timothy J  54.0   \n",
            "7            8                     Palsson, Master. Gosta Leonard   2.0   \n",
            "8            9  Johnson, Mrs. Oscar W (Elisabeth Vilhelmina Berg)  27.0   \n",
            "9           10                Nasser, Mrs. Nicholas (Adele Achem)  14.0   \n",
            "\n",
            "      Sex  FamilySize  \n",
            "0    male           2  \n",
            "1  female           2  \n",
            "2  female           1  \n",
            "3  female           2  \n",
            "4    male           1  \n",
            "5    male           1  \n",
            "6    male           1  \n",
            "7    male           5  \n",
            "8  female           3  \n",
            "9  female           2  \n"
          ]
        }
      ],
      "source": [
        "train['FamilySize'] = train['SibSp'] + train['Parch'] + 1\n",
        "test['FamilySize'] = test['SibSp'] + test['Parch'] + 1\n",
        "\n",
        "print(train[['PassengerId', 'Name', 'Age', 'Sex', 'FamilySize']].head(10))\n"
      ]
    },
    {
      "cell_type": "markdown",
      "metadata": {
        "id": "c3E6acToB6ZJ"
      },
      "source": [
        "2.4 Visualisez le nombre de personnes et le taux de survie par taille de famille."
      ]
    },
    {
      "cell_type": "code",
      "execution_count": 53,
      "metadata": {
        "_cell_guid": "1a537f10-7cec-d0b7-8a34-fa9975655190",
        "_uuid": "ccc4a4cf7624dd4be450fd62ca3ad478d4e75696",
        "colab": {
          "base_uri": "https://localhost:8080/",
          "height": 329
        },
        "id": "UTlBsiQwB6ZJ",
        "outputId": "ea4851fd-719c-44cb-8143-79b97608c0d5"
      },
      "outputs": [
        {
          "output_type": "display_data",
          "data": {
            "text/plain": [
              "<Figure size 1200x600 with 2 Axes>"
            ],
            "image/png": "[encoded data removed]"
          },
          "metadata": {}
        }
      ],
      "source": [
        "plt.figure(figsize=(12, 6))\n",
        "\n",
        "plt.subplot(1, 2, 1)\n",
        "train['FamilySize'].value_counts().plot(kind='bar')\n",
        "plt.title('Nombre de personnes par taille de famille')\n",
        "plt.xlabel('Taille de la famille')\n",
        "plt.ylabel('Nombre de personnes')\n",
        "\n",
        "plt.subplot(1, 2, 2)\n",
        "train.groupby('FamilySize')['Survived'].mean().plot(kind='bar')\n",
        "plt.title('Taux de survie par taille de famille')\n",
        "plt.xlabel('Taille de la famille')\n",
        "plt.ylabel('Taux de survie')\n",
        "\n",
        "plt.tight_layout()\n",
        "plt.show()\n"
      ]
    },
    {
      "cell_type": "markdown",
      "metadata": {
        "_cell_guid": "7c58b7ee-d6a1-0cc9-2346-81c47846a54a",
        "_uuid": "88185e9222c26d5d23caaeb209c18710a231b5f9",
        "id": "6sEtZsLUB6ZK"
      },
      "source": [
        "2.5 Calculer une nouvelle colonne IsAlone indiquant si le passager est seul ou pas, pour les DataFrame train et Test. Afficher pour 10 exemples l'Id du passager, le nom, l'age, le sexe et le status IsAlone."
      ]
    },
    {
      "cell_type": "code",
      "execution_count": 54,
      "metadata": {
        "_cell_guid": "8c35e945-c928-e3bc-bd9c-d6ddb287e4c9",
        "_uuid": "87f79dc0711c29f39c0db1a4f7a2e8a84c0c7edb",
        "colab": {
          "base_uri": "https://localhost:8080/"
        },
        "id": "1aERo-WlB6ZK",
        "outputId": "0926fea4-49a1-40ca-cee8-64eff529d17e"
      },
      "outputs": [
        {
          "output_type": "stream",
          "name": "stdout",
          "text": [
            "   PassengerId                                               Name   Age  \\\n",
            "0            1                            Braund, Mr. Owen Harris  22.0   \n",
            "1            2  Cumings, Mrs. John Bradley (Florence Briggs Th...  38.0   \n",
            "2            3                             Heikkinen, Miss. Laina  26.0   \n",
            "3            4       Futrelle, Mrs. Jacques Heath (Lily May Peel)  35.0   \n",
            "4            5                           Allen, Mr. William Henry  35.0   \n",
            "5            6                                   Moran, Mr. James   NaN   \n",
            "6            7                            McCarthy, Mr. Timothy J  54.0   \n",
            "7            8                     Palsson, Master. Gosta Leonard   2.0   \n",
            "8            9  Johnson, Mrs. Oscar W (Elisabeth Vilhelmina Berg)  27.0   \n",
            "9           10                Nasser, Mrs. Nicholas (Adele Achem)  14.0   \n",
            "\n",
            "      Sex  IsAlone  \n",
            "0    male        0  \n",
            "1  female        0  \n",
            "2  female        1  \n",
            "3  female        0  \n",
            "4    male        1  \n",
            "5    male        1  \n",
            "6    male        1  \n",
            "7    male        0  \n",
            "8  female        0  \n",
            "9  female        0  \n"
          ]
        }
      ],
      "source": [
        "train['IsAlone'] = 0\n",
        "train.loc[train['FamilySize'] == 1, 'IsAlone'] = 1\n",
        "\n",
        "test['IsAlone'] = 0\n",
        "test.loc[test['FamilySize'] == 1, 'IsAlone'] = 1\n",
        "\n",
        "print(train[['PassengerId', 'Name', 'Age', 'Sex', 'IsAlone']].head(10))\n"
      ]
    },
    {
      "cell_type": "markdown",
      "metadata": {
        "id": "e5OtOBNJB6ZK"
      },
      "source": [
        "2.6 Visualisez le nombre de personnes et le taux de survie par statut seul ou pas."
      ]
    },
    {
      "cell_type": "code",
      "execution_count": 55,
      "metadata": {
        "_cell_guid": "8c35e945-c928-e3bc-bd9c-d6ddb287e4c9",
        "_uuid": "87f79dc0711c29f39c0db1a4f7a2e8a84c0c7edb",
        "colab": {
          "base_uri": "https://localhost:8080/",
          "height": 329
        },
        "id": "A9a0op9AB6ZK",
        "outputId": "8a56eef6-d2dd-4ea8-de89-703a2e2e73e4"
      },
      "outputs": [
        {
          "output_type": "display_data",
          "data": {
            "text/plain": [
              "<Figure size 1200x600 with 2 Axes>"
            ],
            "image/png": "[encoded data removed]"
          },
          "metadata": {}
        }
      ],
      "source": [
        "plt.figure(figsize=(12, 6))\n",
        "\n",
        "plt.subplot(1, 2, 1)\n",
        "train['IsAlone'].value_counts().plot(kind='bar')\n",
        "plt.title('Nombre de personnes par statut seul ou pas')\n",
        "plt.xlabel('Statut (0=Non Seul, 1=Seul)')\n",
        "plt.ylabel('Nombre de personnes')\n",
        "\n",
        "plt.subplot(1, 2, 2)\n",
        "train.groupby('IsAlone')['Survived'].mean().plot(kind='bar')\n",
        "plt.title('Taux de survie par statut seul ou pas')\n",
        "plt.xlabel('Statut (0=Non Seul, 1=Seul)')\n",
        "plt.ylabel('Taux de survie')\n",
        "\n",
        "plt.tight_layout()\n",
        "plt.show()\n"
      ]
    },
    {
      "cell_type": "markdown",
      "metadata": {
        "id": "k1dBOLq1B6ZK"
      },
      "source": [
        "2.7 Calculer l'information mutuelle sur les données train.\n",
        "\n",
        "Attention : Il y a des données continues et des données discrètes\n",
        "\n",
        "Ignorer les colonnes Name, Ticket et Cabin"
      ]
    },
    {
      "cell_type": "code",
      "execution_count": 65,
      "metadata": {
        "colab": {
          "base_uri": "https://localhost:8080/"
        },
        "id": "MAc0KoavB6ZK",
        "outputId": "f6e130bb-a997-4c16-d602-e794683fa728"
      },
      "outputs": [
        {
          "output_type": "stream",
          "name": "stdout",
          "text": [
            "Information mutuelle entre 'Survived' et 'Age': 0.03053497013155404\n",
            "Information mutuelle entre 'Survived' et 'SibSp': 0\n",
            "Information mutuelle entre 'Survived' et 'Parch': 0.016774704998518075\n",
            "Information mutuelle entre 'Survived' et 'Fare': 0.11894609312798998\n",
            "Information mutuelle entre 'Survived' et 'FamilySize': 0.05843772637325895\n",
            "Information mutuelle entre 'Survived' et 'Pclass': 0.0868038924993777\n",
            "Information mutuelle entre 'Survived' et 'Sex': 0.1740323617553412\n",
            "Information mutuelle entre 'Survived' et 'Embarked': 0.0\n",
            "Information mutuelle entre 'Survived' et 'IsAlone': 0.0\n"
          ]
        }
      ],
      "source": [
        "numerical_cols = ['Age', 'SibSp', 'Parch', 'Fare', 'FamilySize']\n",
        "categorical_cols = ['Survived', 'Pclass', 'Sex', 'Embarked', 'IsAlone']\n",
        "\n",
        "def calculate_mutual_information(data, numerical_cols, categorical_cols):\n",
        "    mi_scores = {}\n",
        "    for col in numerical_cols:\n",
        "        mi_scores[col] = mutual_info_regression(data[[col]], data['Survived'])[0]\n",
        "    for col in categorical_cols:\n",
        "      if col != 'Survived':\n",
        "          mi_scores[col] = mutual_info_regression(pd.get_dummies(data[col]), data['Survived'])[0]\n",
        "    return mi_scores\n",
        "\n",
        "mi_scores = calculate_mutual_information(train, numerical_cols, categorical_cols)\n",
        "\n",
        "for col, mi in mi_scores.items():\n",
        "    print(f\"Information mutuelle entre 'Survived' et '{col}': {mi}\")\n"
      ]
    },
    {
      "cell_type": "markdown",
      "metadata": {
        "id": "91bPMdNbB6ZK"
      },
      "source": [
        "2.8 Afficher dans un graphique les scores d'information mutuelle par feature"
      ]
    },
    {
      "cell_type": "code",
      "execution_count": 66,
      "metadata": {
        "colab": {
          "base_uri": "https://localhost:8080/",
          "height": 392
        },
        "id": "0sy8_PZgB6ZK",
        "outputId": "4680cc7f-bbf7-4e9e-afd2-263aa2b16bac"
      },
      "outputs": [
        {
          "output_type": "display_data",
          "data": {
            "text/plain": [
              "<Figure size 1000x600 with 1 Axes>"
            ],
            "image/png": "[encoded data removed]"
          },
          "metadata": {}
        }
      ],
      "source": [
        "features = list(mi_scores.keys())\n",
        "scores = list(mi_scores.values())\n",
        "\n",
        "plt.figure(figsize=(10, 6))\n",
        "plt.bar(features, scores)\n",
        "plt.xlabel(\"Caractéristiques\")\n",
        "plt.ylabel(\"Score d'Information Mutuelle\")\n",
        "plt.title(\"Scores d'Information Mutuelle par Caractéristique\")\n",
        "plt.xticks(rotation=45, ha='right')\n",
        "plt.tight_layout()\n",
        "plt.show()\n"
      ]
    },
    {
      "cell_type": "markdown",
      "metadata": {
        "id": "jjOMD0LxB6ZK"
      },
      "source": [
        "### Question 1 : La variable Classe est-elle utile pour prévoir la survie ? Pourquoi ?\n",
        "\n",
        "- La variable Classe est utile pour prévoir la survie. On observe au sein des résultats que le taux de survie est beaucoup plus élevé pour les passagers en première classe (62.96 %) par rapport à ceux en deuxième classe (47.28 %) et enfin en troisième classe (24.24 %).\n",
        "- Exemple d'interprétation de ces résultats - les passagers de première classe, qui bénéficient de meilleures conditions à bord et peuvent avoir un accès privilégié aux canots de sauvetage, avaient plus de chances de survivre.\n",
        "\n",
        "<br>\n",
        "\n",
        "Cette disparité suggère que la classe socio-économique a un impact direct sur la probabilité de survie, dû moins à l'époque.\n",
        "\n",
        "<br>\n",
        "<br>\n",
        "\n",
        "### Question 2 : Même question pour la variable Sex\n",
        "- La variable Sexe est également très pertinente pour prévoir la survie. L'analyse montre que les femmes ont un taux de survie beaucoup plus élevé que les hommes dans toutes les classes. Par exemple, en 1ère classe, 96.81 % des femmes ont survécu contre seulement 36.89 % des hommes.\n",
        "- Exemple d'interprétation de ces résultats - dans ce genre de cas extrême, les hommes priorisent la sécurité des femmes (et des enfants).\n",
        "\n",
        "<br>\n",
        "\n",
        "Il est néanmoins important de souligner qu'en moyenne, moins de 30% des femmes survivent à la catastrophe contre près de 40% des hommes. Quant aux enfants, seuls 15% en réchappent (\"Every man for himself  ! Gender, norms and survival in maritime disaster\", 2012). Une étude de l'université d'Uppsala révèle qu'en moyenne, les hommes survivent mieux que les femmes dans les catastrophes maritimes. Les hommes réagiraient plus rapidement et seraient plus aptes à s'échapper. Lorsque les consignes d’évacuation sont floues, la logique \"chacun pour soi\" a tendance à l'emporter. Ainsi, bien que le Titanic ait vu une forte survie des femmes, cette règle n'est pas universelle. Le sexe reste une variable utile, mais son influence dépend du contexte.\n",
        "\n",
        "<br>\n",
        "<br>\n",
        "\n",
        "### Question 3 : Comment traiter le variables liées à la famille du passager ?\n",
        "\n",
        "Les variables SibSp (nombre de frères et sœurs/époux à bord) et Parch (nombre de parents/enfants à bord) peuvent être combinées pour créer une nouvelle variable : FamilySize. Cette variable mesure la taille de la famille d'un passager, ce qui peut affecter ses chances de survie. En effet, les passagers seuls peuvent avoir plus de difficultés à survivre, tandis que ceux en famille peuvent avoir plus de soutien. Une autre nouvelle variable, IsAlone, indique si un passager est seul (FamilySize = 1) ou non. Ces deux nouvelles variables peuvent être très utiles pour prédire la survie. Il serait également pertinent de créer des catégories pour la taille de la famille et d’examiner l'impact de chaque catégorie sur la survie.\n",
        "\n",
        "\n"
      ]
    },
    {
      "cell_type": "markdown",
      "metadata": {
        "id": "Vk4prV9EB6ZK"
      },
      "source": [
        "## 3. Traitement des données manquantes (à faire sur les données Train et Test)"
      ]
    },
    {
      "cell_type": "markdown",
      "metadata": {
        "_cell_guid": "8aa419c0-6614-7efc-7797-97f4a5158b19",
        "_uuid": "dd18a31086cfeca6330b05f83caf3cc02f687253",
        "id": "CECvstYTB6ZK"
      },
      "source": [
        "3.1 La variable \"Embarked\" possède des valeurs nulles, compléter par la valeur majoritaire (S)."
      ]
    },
    {
      "cell_type": "code",
      "execution_count": 57,
      "metadata": {
        "_cell_guid": "0e70e9af-d7cc-8c40-b7d4-2643889c376d",
        "_uuid": "b4f7ccb3df98da6915bda1c7c225b905fc37845b",
        "id": "_0AFFRvFB6ZL"
      },
      "outputs": [],
      "source": [
        "train['Embarked'] = train['Embarked'].fillna('S')\n",
        "test['Embarked'] = test['Embarked'].fillna('S')\n"
      ]
    },
    {
      "cell_type": "markdown",
      "metadata": {
        "id": "M7HBny2QB6ZL"
      },
      "source": [
        "3.2 Afficher l'influence du port d'embarquement sur la Survie"
      ]
    },
    {
      "cell_type": "code",
      "execution_count": 58,
      "metadata": {
        "_cell_guid": "0e70e9af-d7cc-8c40-b7d4-2643889c376d",
        "_uuid": "b4f7ccb3df98da6915bda1c7c225b905fc37845b",
        "colab": {
          "base_uri": "https://localhost:8080/",
          "height": 605
        },
        "id": "AbyitPTsB6ZL",
        "outputId": "12792c9f-c8a2-4635-cad9-921efaa81c59"
      },
      "outputs": [
        {
          "output_type": "stream",
          "name": "stdout",
          "text": [
            "Embarked\n",
            "C    55.36\n",
            "Q    38.96\n",
            "S    33.90\n",
            "Name: Survived, dtype: float64\n"
          ]
        },
        {
          "output_type": "display_data",
          "data": {
            "text/plain": [
              "<Figure size 800x600 with 1 Axes>"
            ],
            "image/png": "[encoded data removed]"
          },
          "metadata": {}
        }
      ],
      "source": [
        "survival_per_embarked = train.groupby('Embarked')['Survived'].mean() * 100\n",
        "survival_per_embarked = survival_per_embarked.round(2)\n",
        "\n",
        "print(survival_per_embarked)\n",
        "\n",
        "plt.figure(figsize=(8, 6))\n",
        "plt.bar(survival_per_embarked.index, survival_per_embarked.values)\n",
        "plt.xlabel(\"Port d'embarquement\")\n",
        "plt.ylabel(\"Taux de survie (%)\")\n",
        "plt.title(\"Influence du port d'embarquement sur la survie\")\n",
        "plt.show()\n"
      ]
    },
    {
      "cell_type": "markdown",
      "metadata": {
        "_cell_guid": "e08c9ee8-d6d1-99b7-38bd-f0042c18a5d9",
        "_uuid": "bbeb369d4bb1b086fcc3257218fdeeb6bcdb53c0",
        "id": "zAQPgfu8B6ZL"
      },
      "source": [
        "3.3 La variable \"Fare\" (prix du ticket) possède des valeurs manquantes. Remplacer ces valeurs par la valeur médiane."
      ]
    },
    {
      "cell_type": "code",
      "execution_count": 59,
      "metadata": {
        "_cell_guid": "a21335bd-4e8d-66e8-e6a5-5d2173b72d3b",
        "_uuid": "f04975f236aad78d3f93812512088404b5c9280e",
        "id": "thJdnJ35B6ZL"
      },
      "outputs": [],
      "source": [
        "median_fare = train['Fare'].median()\n",
        "\n",
        "train['Fare'] = train['Fare'].fillna(median_fare)\n",
        "test['Fare'] = test['Fare'].fillna(median_fare)\n"
      ]
    },
    {
      "cell_type": "markdown",
      "metadata": {
        "id": "geCJZ9clB6ZP"
      },
      "source": [
        "3.4 Créer une variable CategoricalFare Découpant la valeur de ticket en 4 catégories de tailles à peu près égales."
      ]
    },
    {
      "cell_type": "code",
      "execution_count": 85,
      "metadata": {
        "_cell_guid": "a21335bd-4e8d-66e8-e6a5-5d2173b72d3b",
        "_uuid": "f04975f236aad78d3f93812512088404b5c9280e",
        "id": "3y3W5GaXB6ZP"
      },
      "outputs": [],
      "source": [
        "train['CategoricalFare'] = pd.qcut(train['Fare'], 4)\n",
        "test['CategoricalFare'] = pd.qcut(test['Fare'], 4)\n"
      ]
    },
    {
      "cell_type": "markdown",
      "metadata": {
        "id": "chdciI1iB6ZP"
      },
      "source": [
        "3.5 Analyser l'effet de ces catégories de prix de ticket sur la survie."
      ]
    },
    {
      "cell_type": "code",
      "execution_count": 61,
      "metadata": {
        "_cell_guid": "a21335bd-4e8d-66e8-e6a5-5d2173b72d3b",
        "_uuid": "f04975f236aad78d3f93812512088404b5c9280e",
        "colab": {
          "base_uri": "https://localhost:8080/",
          "height": 496
        },
        "id": "jba548YpB6ZP",
        "outputId": "39e49f77-14c0-4a32-f3c6-5e29c9d04822"
      },
      "outputs": [
        {
          "output_type": "stream",
          "name": "stdout",
          "text": [
            "CategoricalFare\n",
            "(-0.001, 7.91]     19.73\n",
            "(7.91, 14.454]     30.36\n",
            "(14.454, 31.0]     45.50\n",
            "(31.0, 512.329]    58.11\n",
            "Name: Survived, dtype: float64\n"
          ]
        },
        {
          "output_type": "display_data",
          "data": {
            "text/plain": [
              "<Figure size 1000x600 with 1 Axes>"
            ],
            "image/png": "[encoded data removed]"
          },
          "metadata": {}
        }
      ],
      "source": [
        "survival_per_fare_category = train.groupby('CategoricalFare', observed=False)['Survived'].mean() * 100\n",
        "survival_per_fare_category = survival_per_fare_category.round(2)\n",
        "\n",
        "print(survival_per_fare_category)\n",
        "\n",
        "plt.figure(figsize=(10, 6))\n",
        "plt.bar(survival_per_fare_category.index.astype(str), survival_per_fare_category.values)\n",
        "plt.xlabel(\"Catégories de prix de ticket\")\n",
        "plt.ylabel(\"Taux de survie (%)\")\n",
        "plt.title(\"Effet des catégories de prix de ticket sur la survie\")\n",
        "plt.xticks(rotation=45, ha='right')\n",
        "plt.tight_layout()\n",
        "plt.show()\n"
      ]
    },
    {
      "cell_type": "markdown",
      "metadata": {
        "id": "3NL4GdsiB6ZP"
      },
      "source": [
        "3.6 Combien de valeurs d'Age manquent ? Complète par des valeurs entières aléatoires entre (moyenne - écart type) et (moyenne + écart type)."
      ]
    },
    {
      "cell_type": "code",
      "execution_count": 62,
      "metadata": {
        "_cell_guid": "b90c2870-ce5d-ae0e-a33d-59e35445500e",
        "_uuid": "2af2b56d51752be08b84dbb2684466976758faa7",
        "colab": {
          "base_uri": "https://localhost:8080/"
        },
        "id": "C99B7u4AB6ZP",
        "outputId": "e13da8fa-1e8e-4057-fa08-6d02f16fb203"
      },
      "outputs": [
        {
          "output_type": "stream",
          "name": "stdout",
          "text": [
            "Nombre de valeurs d'âge manquantes dans train : 177\n",
            "Nombre de valeurs d'âge manquantes dans test : 86\n"
          ]
        }
      ],
      "source": [
        "missing_age_count = train['Age'].isnull().sum()\n",
        "print(f\"Nombre de valeurs d'âge manquantes dans train : {missing_age_count}\")\n",
        "\n",
        "mean_age = train['Age'].mean()\n",
        "std_age = train['Age'].std()\n",
        "\n",
        "random_ages = np.random.randint(low=int(mean_age - std_age), high=int(mean_age + std_age), size=missing_age_count)\n",
        "\n",
        "train.loc[train['Age'].isnull(), 'Age'] = random_ages\n",
        "\n",
        "missing_age_count_test = test['Age'].isnull().sum()\n",
        "print(f\"Nombre de valeurs d'âge manquantes dans test : {missing_age_count_test}\")\n",
        "\n",
        "mean_age_test = test['Age'].mean()\n",
        "std_age_test = test['Age'].std()\n",
        "random_ages_test = np.random.randint(low=int(mean_age_test - std_age_test), high=int(mean_age_test + std_age_test), size=missing_age_count_test)\n",
        "\n",
        "test.loc[test['Age'].isnull(), 'Age'] = random_ages_test"
      ]
    },
    {
      "cell_type": "markdown",
      "metadata": {
        "id": "MLXIV9neB6ZP"
      },
      "source": [
        "3.7 Créer une variable CategoricalAge Découpant la valeur d'age en 5 tranches d'age de même taille."
      ]
    },
    {
      "cell_type": "code",
      "execution_count": 89,
      "metadata": {
        "_cell_guid": "b90c2870-ce5d-ae0e-a33d-59e35445500e",
        "_uuid": "2af2b56d51752be08b84dbb2684466976758faa7",
        "id": "S4pWHFRXB6ZP"
      },
      "outputs": [],
      "source": [
        "train['CategoricalAge'] = pd.qcut(train['Age'], 5)\n",
        "test['CategoricalAge'] = pd.qcut(test['Age'], 5)"
      ]
    },
    {
      "cell_type": "markdown",
      "metadata": {
        "id": "eDIWlV2yB6ZQ"
      },
      "source": [
        "3.8 Analyser l'effet de ces catégories d'age sur la survie."
      ]
    },
    {
      "cell_type": "code",
      "execution_count": 64,
      "metadata": {
        "colab": {
          "base_uri": "https://localhost:8080/",
          "height": 513
        },
        "id": "Ek1B1HQTB6ZQ",
        "outputId": "52236bcb-4d86-4b40-cb17-f435914335f3"
      },
      "outputs": [
        {
          "output_type": "stream",
          "name": "stdout",
          "text": [
            "CategoricalAge\n",
            "(0.419, 19.0]    44.44\n",
            "(19.0, 25.0]     29.82\n",
            "(25.0, 32.0]     37.82\n",
            "(32.0, 40.0]     40.35\n",
            "(40.0, 80.0]     38.92\n",
            "Name: Survived, dtype: float64\n"
          ]
        },
        {
          "output_type": "display_data",
          "data": {
            "text/plain": [
              "<Figure size 1000x600 with 1 Axes>"
            ],
            "image/png": "[encoded data removed]"
          },
          "metadata": {}
        }
      ],
      "source": [
        "survival_per_age_category = train.groupby('CategoricalAge', observed=False)['Survived'].mean() * 100\n",
        "survival_per_age_category = survival_per_age_category.round(2)\n",
        "\n",
        "print(survival_per_age_category)\n",
        "\n",
        "plt.figure(figsize=(10, 6))\n",
        "plt.bar(survival_per_age_category.index.astype(str), survival_per_age_category.values)\n",
        "plt.xlabel(\"Catégories d'âge\")\n",
        "plt.ylabel(\"Taux de survie (%)\")\n",
        "plt.title(\"Effet des catégories d'âge sur la survie\")\n",
        "plt.xticks(rotation=45, ha='right')\n",
        "plt.tight_layout()\n",
        "plt.show()\n"
      ]
    },
    {
      "cell_type": "markdown",
      "metadata": {
        "id": "_1YVfbGfB6ZQ"
      },
      "source": [
        "### Question 1 : Classer les variables par ordre d'intérêt"
      ]
    },
    {
      "cell_type": "markdown",
      "metadata": {
        "id": "W_xBisKIB6ZQ"
      },
      "source": [
        "## 4 : Traitement de features complexes"
      ]
    },
    {
      "cell_type": "markdown",
      "metadata": {
        "_cell_guid": "bd25ec3f-b601-c1cc-d701-991fac1621f9",
        "_uuid": "17f6d181260d68d89f0a5dfa99b40a82b723567c",
        "id": "9xifXgTXB6ZQ"
      },
      "source": [
        "4.1 : Le nom permet de retrouver le titre du passager. Trouver les titres lorsqu'ils existent."
      ]
    },
    {
      "cell_type": "code",
      "execution_count": 79,
      "metadata": {
        "_cell_guid": "ad042f43-bfe0-ded0-4171-379d8caaa749",
        "_uuid": "5a56f5b4bad78d7e323167c5f0cc07cb3675187a",
        "id": "_OWPh3zmB6ZQ",
        "outputId": "2a54c67a-0ea3-41d3-e7a6-60963d6094fe",
        "colab": {
          "base_uri": "https://localhost:8080/"
        }
      },
      "outputs": [
        {
          "output_type": "stream",
          "name": "stdout",
          "text": [
            "                                                Name   Title\n",
            "0                            Braund, Mr. Owen Harris      Mr\n",
            "1  Cumings, Mrs. John Bradley (Florence Briggs Th...     Mrs\n",
            "2                             Heikkinen, Miss. Laina    Miss\n",
            "3       Futrelle, Mrs. Jacques Heath (Lily May Peel)     Mrs\n",
            "4                           Allen, Mr. William Henry      Mr\n",
            "5                                   Moran, Mr. James      Mr\n",
            "6                            McCarthy, Mr. Timothy J      Mr\n",
            "7                     Palsson, Master. Gosta Leonard  Master\n",
            "8  Johnson, Mrs. Oscar W (Elisabeth Vilhelmina Berg)     Mrs\n",
            "9                Nasser, Mrs. Nicholas (Adele Achem)     Mrs\n",
            "                                           Name Title\n",
            "0                              Kelly, Mr. James    Mr\n",
            "1              Wilkes, Mrs. James (Ellen Needs)   Mrs\n",
            "2                     Myles, Mr. Thomas Francis    Mr\n",
            "3                              Wirz, Mr. Albert    Mr\n",
            "4  Hirvonen, Mrs. Alexander (Helga E Lindqvist)   Mrs\n",
            "5                    Svensson, Mr. Johan Cervin    Mr\n",
            "6                          Connolly, Miss. Kate  Miss\n",
            "7                  Caldwell, Mr. Albert Francis    Mr\n",
            "8     Abrahim, Mrs. Joseph (Sophie Halaut Easu)   Mrs\n",
            "9                       Davies, Mr. John Samuel    Mr\n"
          ]
        }
      ],
      "source": [
        "train['Title'] = train['Name'].str.extract(' ([A-Za-z]+)\\.', expand=False)\n",
        "test['Title'] = test['Name'].str.extract(' ([A-Za-z]+)\\.', expand=False)\n",
        "\n",
        "print(train[['Name', 'Title']].head(10))\n",
        "print(test[['Name', 'Title']].head(10))\n"
      ]
    },
    {
      "cell_type": "markdown",
      "metadata": {
        "id": "d8TLyajAB6ZQ"
      },
      "source": [
        "4.2 : En utilisant la fonction pandas crosstab, afficher pour train le nombre d'occurences par titres (en ligne) et par sexe (en colonne)"
      ]
    },
    {
      "cell_type": "code",
      "execution_count": 80,
      "metadata": {
        "id": "xw1JnnYxB6ZQ",
        "outputId": "7841fee8-92a3-47c1-fefd-eacacd57f8b6",
        "colab": {
          "base_uri": "https://localhost:8080/",
          "height": 614
        }
      },
      "outputs": [
        {
          "output_type": "execute_result",
          "data": {
            "text/plain": [
              "Sex         0    1\n",
              "Title             \n",
              "Capt        0    1\n",
              "Col         0    2\n",
              "Countess    1    0\n",
              "Don         0    1\n",
              "Dr          1    6\n",
              "Jonkheer    0    1\n",
              "Lady        1    0\n",
              "Major       0    2\n",
              "Master      0   40\n",
              "Miss      182    0\n",
              "Mlle        2    0\n",
              "Mme         1    0\n",
              "Mr          0  517\n",
              "Mrs       125    0\n",
              "Ms          1    0\n",
              "Rev         0    6\n",
              "Sir         0    1"
            ],
            "text/html": [
              "\n",
              "  <div id=\"df-10e3185b-3312-44e0-beb6-2a54ff46d41e\" class=\"colab-df-container\">\n",
              "    <div>\n",
              "<style scoped>\n",
              "    .dataframe tbody tr th:only-of-type {\n",
              "        vertical-align: middle;\n",
              "    }\n",
              "\n",
              "    .dataframe tbody tr th {\n",
              "        vertical-align: top;\n",
              "    }\n",
              "\n",
              "    .dataframe thead th {\n",
              "        text-align: right;\n",
              "    }\n",
              "</style>\n",
              "<table border=\"1\" class=\"dataframe\">\n",
              "  <thead>\n",
              "    <tr style=\"text-align: right;\">\n",
              "      <th>Sex</th>\n",
              "      <th>0</th>\n",
              "      <th>1</th>\n",
              "    </tr>\n",
              "    <tr>\n",
              "      <th>Title</th>\n",
              "      <th></th>\n",
              "      <th></th>\n",
              "    </tr>\n",
              "  </thead>\n",
              "  <tbody>\n",
              "    <tr>\n",
              "      <th>Capt</th>\n",
              "      <td>0</td>\n",
              "      <td>1</td>\n",
              "    </tr>\n",
              "    <tr>\n",
              "      <th>Col</th>\n",
              "      <td>0</td>\n",
              "      <td>2</td>\n",
              "    </tr>\n",
              "    <tr>\n",
              "      <th>Countess</th>\n",
              "      <td>1</td>\n",
              "      <td>0</td>\n",
              "    </tr>\n",
              "    <tr>\n",
              "      <th>Don</th>\n",
              "      <td>0</td>\n",
              "      <td>1</td>\n",
              "    </tr>\n",
              "    <tr>\n",
              "      <th>Dr</th>\n",
              "      <td>1</td>\n",
              "      <td>6</td>\n",
              "    </tr>\n",
              "    <tr>\n",
              "      <th>Jonkheer</th>\n",
              "      <td>0</td>\n",
              "      <td>1</td>\n",
              "    </tr>\n",
              "    <tr>\n",
              "      <th>Lady</th>\n",
              "      <td>1</td>\n",
              "      <td>0</td>\n",
              "    </tr>\n",
              "    <tr>\n",
              "      <th>Major</th>\n",
              "      <td>0</td>\n",
              "      <td>2</td>\n",
              "    </tr>\n",
              "    <tr>\n",
              "      <th>Master</th>\n",
              "      <td>0</td>\n",
              "      <td>40</td>\n",
              "    </tr>\n",
              "    <tr>\n",
              "      <th>Miss</th>\n",
              "      <td>182</td>\n",
              "      <td>0</td>\n",
              "    </tr>\n",
              "    <tr>\n",
              "      <th>Mlle</th>\n",
              "      <td>2</td>\n",
              "      <td>0</td>\n",
              "    </tr>\n",
              "    <tr>\n",
              "      <th>Mme</th>\n",
              "      <td>1</td>\n",
              "      <td>0</td>\n",
              "    </tr>\n",
              "    <tr>\n",
              "      <th>Mr</th>\n",
              "      <td>0</td>\n",
              "      <td>517</td>\n",
              "    </tr>\n",
              "    <tr>\n",
              "      <th>Mrs</th>\n",
              "      <td>125</td>\n",
              "      <td>0</td>\n",
              "    </tr>\n",
              "    <tr>\n",
              "      <th>Ms</th>\n",
              "      <td>1</td>\n",
              "      <td>0</td>\n",
              "    </tr>\n",
              "    <tr>\n",
              "      <th>Rev</th>\n",
              "      <td>0</td>\n",
              "      <td>6</td>\n",
              "    </tr>\n",
              "    <tr>\n",
              "      <th>Sir</th>\n",
              "      <td>0</td>\n",
              "      <td>1</td>\n",
              "    </tr>\n",
              "  </tbody>\n",
              "</table>\n",
              "</div>\n",
              "    <div class=\"colab-df-buttons\">\n",
              "\n",
              "  <div class=\"colab-df-container\">\n",
              "    <button class=\"colab-df-convert\" onclick=\"convertToInteractive('df-10e3185b-3312-44e0-beb6-2a54ff46d41e')\"\n",
              "            title=\"Convert this dataframe to an interactive table.\"\n",
              "            style=\"display:none;\">\n",
              "\n",
              "  <svg xmlns=\"http://www.w3.org/2000/svg\" height=\"24px\" viewBox=\"0 -960 960 960\">\n",
              "    <path d=\"M120-120v-720h720v720H120Zm60-500h600v-160H180v160Zm220 220h160v-160H400v160Zm0 220h160v-160H400v160ZM180-400h160v-160H180v160Zm440 0h160v-160H620v160ZM180-180h160v-160H180v160Zm440 0h160v-160H620v160Z\"/>\n",
              "  </svg>\n",
              "    </button>\n",
              "\n",
              "  <style>\n",
              "    .colab-df-container {\n",
              "      display:flex;\n",
              "      gap: 12px;\n",
              "    }\n",
              "\n",
              "    .colab-df-convert {\n",
              "      background-color: #E8F0FE;\n",
              "      border: none;\n",
              "      border-radius: 50%;\n",
              "      cursor: pointer;\n",
              "      display: none;\n",
              "      fill: #1967D2;\n",
              "      height: 32px;\n",
              "      padding: 0 0 0 0;\n",
              "      width: 32px;\n",
              "    }\n",
              "\n",
              "    .colab-df-convert:hover {\n",
              "      background-color: #E2EBFA;\n",
              "      box-shadow: 0px 1px 2px rgba(60, 64, 67, 0.3), 0px 1px 3px 1px rgba(60, 64, 67, 0.15);\n",
              "      fill: #174EA6;\n",
              "    }\n",
              "\n",
              "    .colab-df-buttons div {\n",
              "      margin-bottom: 4px;\n",
              "    }\n",
              "\n",
              "    [theme=dark] .colab-df-convert {\n",
              "      background-color: #3B4455;\n",
              "      fill: #D2E3FC;\n",
              "    }\n",
              "\n",
              "    [theme=dark] .colab-df-convert:hover {\n",
              "      background-color: #434B5C;\n",
              "      box-shadow: 0px 1px 3px 1px rgba(0, 0, 0, 0.15);\n",
              "      filter: drop-shadow(0px 1px 2px rgba(0, 0, 0, 0.3));\n",
              "      fill: #FFFFFF;\n",
              "    }\n",
              "  </style>\n",
              "\n",
              "    <script>\n",
              "      const buttonEl =\n",
              "        document.querySelector('#df-10e3185b-3312-44e0-beb6-2a54ff46d41e button.colab-df-convert');\n",
              "      buttonEl.style.display =\n",
              "        google.colab.kernel.accessAllowed ? 'block' : 'none';\n",
              "\n",
              "      async function convertToInteractive(key) {\n",
              "        const element = document.querySelector('#df-10e3185b-3312-44e0-beb6-2a54ff46d41e');\n",
              "        const dataTable =\n",
              "          await google.colab.kernel.invokeFunction('convertToInteractive',\n",
              "                                                    [key], {});\n",
              "        if (!dataTable) return;\n",
              "\n",
              "        const docLinkHtml = 'Like what you see? Visit the ' +\n",
              "          '<a target=\"_blank\" href=https://colab.research.google.com/notebooks/data_table.ipynb>data table notebook</a>'\n",
              "          + ' to learn more about interactive tables.';\n",
              "        element.innerHTML = '';\n",
              "        dataTable['output_type'] = 'display_data';\n",
              "        await google.colab.output.renderOutput(dataTable, element);\n",
              "        const docLink = document.createElement('div');\n",
              "        docLink.innerHTML = docLinkHtml;\n",
              "        element.appendChild(docLink);\n",
              "      }\n",
              "    </script>\n",
              "  </div>\n",
              "\n",
              "\n",
              "<div id=\"df-973e62fe-34ee-4df7-8258-e5320b5529b1\">\n",
              "  <button class=\"colab-df-quickchart\" onclick=\"quickchart('df-973e62fe-34ee-4df7-8258-e5320b5529b1')\"\n",
              "            title=\"Suggest charts\"\n",
              "            style=\"display:none;\">\n",
              "\n",
              "<svg xmlns=\"http://www.w3.org/2000/svg\" height=\"24px\"viewBox=\"0 0 24 24\"\n",
              "     width=\"24px\">\n",
              "    <g>\n",
              "        <path d=\"M19 3H5c-1.1 0-2 .9-2 2v14c0 1.1.9 2 2 2h14c1.1 0 2-.9 2-2V5c0-1.1-.9-2-2-2zM9 17H7v-7h2v7zm4 0h-2V7h2v10zm4 0h-2v-4h2v4z\"/>\n",
              "    </g>\n",
              "</svg>\n",
              "  </button>\n",
              "\n",
              "<style>\n",
              "  .colab-df-quickchart {\n",
              "      --bg-color: #E8F0FE;\n",
              "      --fill-color: #1967D2;\n",
              "      --hover-bg-color: #E2EBFA;\n",
              "      --hover-fill-color: #174EA6;\n",
              "      --disabled-fill-color: #AAA;\n",
              "      --disabled-bg-color: #DDD;\n",
              "  }\n",
              "\n",
              "  [theme=dark] .colab-df-quickchart {\n",
              "      --bg-color: #3B4455;\n",
              "      --fill-color: #D2E3FC;\n",
              "      --hover-bg-color: #434B5C;\n",
              "      --hover-fill-color: #FFFFFF;\n",
              "      --disabled-bg-color: #3B4455;\n",
              "      --disabled-fill-color: #666;\n",
              "  }\n",
              "\n",
              "  .colab-df-quickchart {\n",
              "    background-color: var(--bg-color);\n",
              "    border: none;\n",
              "    border-radius: 50%;\n",
              "    cursor: pointer;\n",
              "    display: none;\n",
              "    fill: var(--fill-color);\n",
              "    height: 32px;\n",
              "    padding: 0;\n",
              "    width: 32px;\n",
              "  }\n",
              "\n",
              "  .colab-df-quickchart:hover {\n",
              "    background-color: var(--hover-bg-color);\n",
              "    box-shadow: 0 1px 2px rgba(60, 64, 67, 0.3), 0 1px 3px 1px rgba(60, 64, 67, 0.15);\n",
              "    fill: var(--button-hover-fill-color);\n",
              "  }\n",
              "\n",
              "  .colab-df-quickchart-complete:disabled,\n",
              "  .colab-df-quickchart-complete:disabled:hover {\n",
              "    background-color: var(--disabled-bg-color);\n",
              "    fill: var(--disabled-fill-color);\n",
              "    box-shadow: none;\n",
              "  }\n",
              "\n",
              "  .colab-df-spinner {\n",
              "    border: 2px solid var(--fill-color);\n",
              "    border-color: transparent;\n",
              "    border-bottom-color: var(--fill-color);\n",
              "    animation:\n",
              "      spin 1s steps(1) infinite;\n",
              "  }\n",
              "\n",
              "  @keyframes spin {\n",
              "    0% {\n",
              "      border-color: transparent;\n",
              "      border-bottom-color: var(--fill-color);\n",
              "      border-left-color: var(--fill-color);\n",
              "    }\n",
              "    20% {\n",
              "      border-color: transparent;\n",
              "      border-left-color: var(--fill-color);\n",
              "      border-top-color: var(--fill-color);\n",
              "    }\n",
              "    30% {\n",
              "      border-color: transparent;\n",
              "      border-left-color: var(--fill-color);\n",
              "      border-top-color: var(--fill-color);\n",
              "      border-right-color: var(--fill-color);\n",
              "    }\n",
              "    40% {\n",
              "      border-color: transparent;\n",
              "      border-right-color: var(--fill-color);\n",
              "      border-top-color: var(--fill-color);\n",
              "    }\n",
              "    60% {\n",
              "      border-color: transparent;\n",
              "      border-right-color: var(--fill-color);\n",
              "    }\n",
              "    80% {\n",
              "      border-color: transparent;\n",
              "      border-right-color: var(--fill-color);\n",
              "      border-bottom-color: var(--fill-color);\n",
              "    }\n",
              "    90% {\n",
              "      border-color: transparent;\n",
              "      border-bottom-color: var(--fill-color);\n",
              "    }\n",
              "  }\n",
              "</style>\n",
              "\n",
              "  <script>\n",
              "    async function quickchart(key) {\n",
              "      const quickchartButtonEl =\n",
              "        document.querySelector('#' + key + ' button');\n",
              "      quickchartButtonEl.disabled = true;  // To prevent multiple clicks.\n",
              "      quickchartButtonEl.classList.add('colab-df-spinner');\n",
              "      try {\n",
              "        const charts = await google.colab.kernel.invokeFunction(\n",
              "            'suggestCharts', [key], {});\n",
              "      } catch (error) {\n",
              "        console.error('Error during call to suggestCharts:', error);\n",
              "      }\n",
              "      quickchartButtonEl.classList.remove('colab-df-spinner');\n",
              "      quickchartButtonEl.classList.add('colab-df-quickchart-complete');\n",
              "    }\n",
              "    (() => {\n",
              "      let quickchartButtonEl =\n",
              "        document.querySelector('#df-973e62fe-34ee-4df7-8258-e5320b5529b1 button');\n",
              "      quickchartButtonEl.style.display =\n",
              "        google.colab.kernel.accessAllowed ? 'block' : 'none';\n",
              "    })();\n",
              "  </script>\n",
              "</div>\n",
              "\n",
              "    </div>\n",
              "  </div>\n"
            ],
            "application/vnd.google.colaboratory.intrinsic+json": {
              "type": "dataframe",
              "summary": "{\n  \"name\": \"pd\",\n  \"rows\": 17,\n  \"fields\": [\n    {\n      \"column\": \"Title\",\n      \"properties\": {\n        \"dtype\": \"string\",\n        \"num_unique_values\": 17,\n        \"samples\": [\n          \"Capt\",\n          \"Col\",\n          \"Jonkheer\"\n        ],\n        \"semantic_type\": \"\",\n        \"description\": \"\"\n      }\n    },\n    {\n      \"column\": 0,\n      \"properties\": {\n        \"dtype\": \"number\",\n        \"std\": 51,\n        \"min\": 0,\n        \"max\": 182,\n        \"num_unique_values\": 5,\n        \"samples\": [\n          1,\n          125,\n          182\n        ],\n        \"semantic_type\": \"\",\n        \"description\": \"\"\n      }\n    },\n    {\n      \"column\": 1,\n      \"properties\": {\n        \"dtype\": \"number\",\n        \"std\": 124,\n        \"min\": 0,\n        \"max\": 517,\n        \"num_unique_values\": 6,\n        \"samples\": [\n          1,\n          2,\n          517\n        ],\n        \"semantic_type\": \"\",\n        \"description\": \"\"\n      }\n    }\n  ]\n}"
            }
          },
          "metadata": {},
          "execution_count": 80
        }
      ],
      "source": [
        "pd.crosstab(train['Title'], train['Sex'])"
      ]
    },
    {
      "cell_type": "markdown",
      "metadata": {
        "_cell_guid": "ca5fff8c-7a0d-6c18-2173-b8df6293c50a",
        "_uuid": "84862f8cbbe2ea72b69a9cba78c6b7e10c80626e",
        "id": "X9g0-wdhB6ZR"
      },
      "source": [
        "4.3 :\n",
        "Remplacer 'Melle et 'Ms' par 'Miss'\n",
        "\n",
        "Remplacer 'Mme' par 'Mrs'\n",
        "\n",
        "Creer une valeur \"Rare\" pour les autres titres avec moins de 10 occurences.\n",
        "\n",
        "Calculer ensuite le taux de survie par titre"
      ]
    },
    {
      "cell_type": "code",
      "execution_count": 81,
      "metadata": {
        "_cell_guid": "8357238b-98fe-632a-acd5-33674a6132ce",
        "_uuid": "db0029466612ad0550fc0eebef4a06a5507d6c3d",
        "id": "dddhRr2gB6ZR",
        "outputId": "7e3b5e8e-279c-4cbb-a94a-4f38cef9bda0",
        "colab": {
          "base_uri": "https://localhost:8080/"
        }
      },
      "outputs": [
        {
          "output_type": "stream",
          "name": "stdout",
          "text": [
            "Title\n",
            "Master    57.50\n",
            "Miss      70.27\n",
            "Mr        15.67\n",
            "Mrs       79.37\n",
            "Rare      34.78\n",
            "Name: Survived, dtype: float64\n"
          ]
        }
      ],
      "source": [
        "train['Title'] = train['Title'].replace(['Mlle', 'Ms'], 'Miss')\n",
        "train['Title'] = train['Title'].replace('Mme', 'Mrs')\n",
        "title_counts = train['Title'].value_counts()\n",
        "rare_titles = title_counts[title_counts < 10].index\n",
        "train['Title'] = train['Title'].replace(rare_titles, 'Rare')\n",
        "\n",
        "survival_per_title = train.groupby('Title')['Survived'].mean() * 100\n",
        "survival_per_title = survival_per_title.round(2)\n",
        "\n",
        "print(survival_per_title)\n",
        "\n",
        "test['Title'] = test['Title'].replace(['Mlle', 'Ms'], 'Miss')\n",
        "test['Title'] = test['Title'].replace('Mme', 'Mrs')\n",
        "title_counts_test = test['Title'].value_counts()\n",
        "rare_titles_test = title_counts_test[title_counts_test < 10].index\n",
        "test['Title'] = test['Title'].replace(rare_titles_test, 'Rare')\n"
      ]
    },
    {
      "cell_type": "markdown",
      "metadata": {
        "_cell_guid": "68fa2057-e27a-e252-0d1b-869c00a303ba",
        "_uuid": "52bcf7b36b8edb12d40f2a1f9e80060b55d91ad3",
        "id": "Sp2u3ZQTB6ZR"
      },
      "source": [
        "## 5. Mise en forme des données non numériques"
      ]
    },
    {
      "cell_type": "markdown",
      "metadata": {
        "id": "AJRnbVnyB6ZR"
      },
      "source": [
        "5.1 Attribuer une valeur numérique au Genre. Par exemple 0 pour 'female' et 1 pour 'male'"
      ]
    },
    {
      "cell_type": "code",
      "execution_count": 76,
      "metadata": {
        "id": "AonDmhUSB6ZR",
        "colab": {
          "base_uri": "https://localhost:8080/"
        },
        "outputId": "9c390156-b1a7-4f07-ac5e-8640bb1c1bf6"
      },
      "outputs": [
        {
          "output_type": "stream",
          "name": "stdout",
          "text": [
            "   Sex\n",
            "0    1\n",
            "1    0\n",
            "2    0\n",
            "3    0\n",
            "4    1\n",
            "5    1\n",
            "6    1\n",
            "7    1\n",
            "8    0\n",
            "9    0\n",
            "   Sex\n",
            "0    1\n",
            "1    0\n",
            "2    1\n",
            "3    1\n",
            "4    0\n",
            "5    1\n",
            "6    0\n",
            "7    1\n",
            "8    0\n",
            "9    1\n"
          ]
        }
      ],
      "source": [
        "train['Sex'] = train['Sex'].map({'female': 0, 'male': 1})\n",
        "test['Sex'] = test['Sex'].map({'female': 0, 'male': 1})\n",
        "\n",
        "print(train[['Sex']].head(10))\n",
        "print(test[['Sex']].head(10))"
      ]
    },
    {
      "cell_type": "markdown",
      "metadata": {
        "id": "bv9CPCgzB6ZR"
      },
      "source": [
        "5.2 : Attribuer une valeur pour les possibilités de ala variable \"Title\" ('Master','Miss','Mr','Mrs','Rare')"
      ]
    },
    {
      "cell_type": "code",
      "execution_count": 82,
      "metadata": {
        "id": "X3QGa3K0B6ZR",
        "colab": {
          "base_uri": "https://localhost:8080/"
        },
        "outputId": "1ea3b4be-2659-4424-c74e-8e2979c1572f"
      },
      "outputs": [
        {
          "output_type": "stream",
          "name": "stdout",
          "text": [
            "   Title\n",
            "0      1\n",
            "1      3\n",
            "2      2\n",
            "3      3\n",
            "4      1\n",
            "5      1\n",
            "6      1\n",
            "7      4\n",
            "8      3\n",
            "9      3\n",
            "   Title\n",
            "0      1\n",
            "1      3\n",
            "2      1\n",
            "3      1\n",
            "4      3\n",
            "5      1\n",
            "6      2\n",
            "7      1\n",
            "8      3\n",
            "9      1\n"
          ]
        }
      ],
      "source": [
        "title_mapping = {\"Mr\": 1, \"Miss\": 2, \"Mrs\": 3, \"Master\": 4, \"Rare\": 5}\n",
        "train['Title'] = train['Title'].map(title_mapping)\n",
        "test['Title'] = test['Title'].map(title_mapping)\n",
        "\n",
        "print(train[['Title']].head(10))\n",
        "print(test[['Title']].head(10))\n"
      ]
    },
    {
      "cell_type": "markdown",
      "metadata": {
        "id": "OchzHol2B6ZR"
      },
      "source": [
        "5.3 Remplacer les titres manquant par 0, et attribuer à la colonne le type entier"
      ]
    },
    {
      "cell_type": "code",
      "execution_count": 83,
      "metadata": {
        "id": "30Ni4DuTB6ZS"
      },
      "outputs": [],
      "source": [
        "train['Title'] = train['Title'].fillna(0).astype(int)\n",
        "test['Title'] = test['Title'].fillna(0).astype(int)\n"
      ]
    },
    {
      "cell_type": "markdown",
      "metadata": {
        "id": "Njlm4ngIB6ZS"
      },
      "source": [
        "5.4 Attribuer une valeur numérique aux 4 catégories de la variable Fare"
      ]
    },
    {
      "cell_type": "code",
      "execution_count": 86,
      "metadata": {
        "id": "xZyR6ZwmB6ZS",
        "colab": {
          "base_uri": "https://localhost:8080/"
        },
        "outputId": "a2b5e0d6-2e77-4d9a-f592-8211057f954a"
      },
      "outputs": [
        {
          "output_type": "stream",
          "name": "stdout",
          "text": [
            "   CategoricalFare\n",
            "0              NaN\n",
            "1              4.0\n",
            "2              2.0\n",
            "3              4.0\n",
            "4              2.0\n",
            "5              2.0\n",
            "6              4.0\n",
            "7              3.0\n",
            "8              2.0\n",
            "9              3.0\n",
            "   CategoricalFare\n",
            "0              NaN\n",
            "1              NaN\n",
            "2              NaN\n",
            "3              NaN\n",
            "4              NaN\n",
            "5              NaN\n",
            "6              NaN\n",
            "7              NaN\n",
            "8              NaN\n",
            "9              NaN\n"
          ]
        }
      ],
      "source": [
        "train['CategoricalFare'] = train['CategoricalFare'].astype(str)\n",
        "test['CategoricalFare'] = test['CategoricalFare'].astype(str)\n",
        "\n",
        "fare_mapping = {\n",
        "    '(0.001, 7.91]': 1,\n",
        "    '(7.91, 14.454]': 2,\n",
        "    '(14.454, 31.0]': 3,\n",
        "    '(31.0, 512.329]': 4\n",
        "}\n",
        "\n",
        "train['CategoricalFare'] = train['CategoricalFare'].map(fare_mapping)\n",
        "test['CategoricalFare'] = test['CategoricalFare'].map(fare_mapping)\n",
        "\n",
        "print(train[['CategoricalFare']].head(10))\n",
        "print(test[['CategoricalFare']].head(10))\n"
      ]
    },
    {
      "cell_type": "markdown",
      "metadata": {
        "id": "TkvQynMTB6ZS"
      },
      "source": [
        "5.5 Attibuer une valeur numérique au Port d'embarquement (Embarked)"
      ]
    },
    {
      "cell_type": "code",
      "execution_count": 87,
      "metadata": {
        "id": "20PEa6tpB6ZS",
        "colab": {
          "base_uri": "https://localhost:8080/"
        },
        "outputId": "6adb287b-1a9d-4332-d7a3-46754d75faff"
      },
      "outputs": [
        {
          "output_type": "stream",
          "name": "stdout",
          "text": [
            "   Embarked\n",
            "0       0.0\n",
            "1       1.0\n",
            "2       0.0\n",
            "3       0.0\n",
            "4       0.0\n",
            "5       2.0\n",
            "6       0.0\n",
            "7       0.0\n",
            "8       0.0\n",
            "9       1.0\n",
            "   Embarked\n",
            "0         2\n",
            "1         0\n",
            "2         2\n",
            "3         0\n",
            "4         0\n",
            "5         0\n",
            "6         2\n",
            "7         0\n",
            "8         1\n",
            "9         0\n"
          ]
        }
      ],
      "source": [
        "embarked_mapping = {\"S\": 0, \"C\": 1, \"Q\": 2}\n",
        "train['Embarked'] = train['Embarked'].map(embarked_mapping)\n",
        "test['Embarked'] = test['Embarked'].map(embarked_mapping)\n",
        "\n",
        "print(train[['Embarked']].head(10))\n",
        "print(test[['Embarked']].head(10))\n"
      ]
    },
    {
      "cell_type": "markdown",
      "metadata": {
        "id": "ZXA7bYlXB6ZS"
      },
      "source": [
        "5.6 Supprimer les features inutiles"
      ]
    },
    {
      "cell_type": "code",
      "execution_count": 90,
      "metadata": {
        "id": "AWoO3UxxB6ZS"
      },
      "outputs": [],
      "source": [
        "features_to_drop = ['PassengerId', 'Name', 'Ticket', 'Cabin', 'SibSp', 'Parch', 'Fare', 'Age', 'CategoricalAge', 'CategoricalFare']\n",
        "train = train.drop(features_to_drop, axis=1)\n",
        "test = test.drop(features_to_drop, axis=1)\n"
      ]
    },
    {
      "cell_type": "markdown",
      "metadata": {
        "id": "8iam4DkQB6ZS"
      },
      "source": [
        "5.7 Afficher les infos pour les deux datasets"
      ]
    },
    {
      "cell_type": "code",
      "execution_count": 91,
      "metadata": {
        "id": "zNNY1ADmB6ZS",
        "colab": {
          "base_uri": "https://localhost:8080/"
        },
        "outputId": "e9d8be06-2385-4665-ffb4-455cba700d7f"
      },
      "outputs": [
        {
          "output_type": "stream",
          "name": "stdout",
          "text": [
            "Informations sur le DataFrame train : \n",
            "<class 'pandas.core.frame.DataFrame'>\n",
            "RangeIndex: 891 entries, 0 to 890\n",
            "Data columns (total 5 columns):\n",
            " #   Column    Non-Null Count  Dtype  \n",
            "---  ------    --------------  -----  \n",
            " 0   Survived  891 non-null    int64  \n",
            " 1   Pclass    891 non-null    int64  \n",
            " 2   Sex       891 non-null    int64  \n",
            " 3   Embarked  889 non-null    float64\n",
            " 4   Title     891 non-null    int64  \n",
            "dtypes: float64(1), int64(4)\n",
            "memory usage: 34.9 KB\n",
            "\n",
            "Informations sur le DataFrame test : \n",
            "<class 'pandas.core.frame.DataFrame'>\n",
            "RangeIndex: 418 entries, 0 to 417\n",
            "Data columns (total 4 columns):\n",
            " #   Column    Non-Null Count  Dtype\n",
            "---  ------    --------------  -----\n",
            " 0   Pclass    418 non-null    int64\n",
            " 1   Sex       418 non-null    int64\n",
            " 2   Embarked  418 non-null    int64\n",
            " 3   Title     418 non-null    int64\n",
            "dtypes: int64(4)\n",
            "memory usage: 13.2 KB\n"
          ]
        }
      ],
      "source": [
        "print(\"Informations sur le DataFrame train : \")\n",
        "train.info()\n",
        "\n",
        "print(\"\\nInformations sur le DataFrame test : \")\n",
        "test.info()\n"
      ]
    },
    {
      "cell_type": "markdown",
      "metadata": {
        "id": "ThwV5pYAB6ZT"
      },
      "source": [
        "5.8 Sauver les deux datasets dans des fichier csv. Eviter d'écrire un index (n° de ligne)"
      ]
    },
    {
      "cell_type": "code",
      "execution_count": 92,
      "metadata": {
        "_cell_guid": "2502bb70-ce6f-2497-7331-7d1f80521470",
        "_uuid": "1aa110c1043f1f43c091a771abc64054a211f784",
        "id": "6aDPwbvhB6ZT"
      },
      "outputs": [],
      "source": [
        "train.to_csv('train_processed.csv', index=False)\n",
        "test.to_csv('test_processed.csv', index=False)\n"
      ]
    }
  ],
  "metadata": {
    "_change_revision": 0,
    "_is_fork": false,
    "kernelspec": {
      "display_name": "Python 3",
      "language": "python",
      "name": "python3"
    },
    "language_info": {
      "codemirror_mode": {
        "name": "ipython",
        "version": 3
      },
      "file_extension": ".py",
      "mimetype": "text/x-python",
      "name": "python",
      "nbconvert_exporter": "python",
      "pygments_lexer": "ipython3",
      "version": "3.7.4"
    },
    "colab": {
      "provenance": [],
      "include_colab_link": true
    }
  },
  "nbformat": 4,
  "nbformat_minor": 0
}